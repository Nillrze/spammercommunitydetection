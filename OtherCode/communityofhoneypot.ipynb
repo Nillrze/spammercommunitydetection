{
  "nbformat": 4,
  "nbformat_minor": 0,
  "metadata": {
    "colab": {
      "provenance": []
    },
    "kernelspec": {
      "name": "python3",
      "display_name": "Python 3"
    },
    "language_info": {
      "name": "python"
    }
  },
  "cells": [
    {
      "cell_type": "code",
      "metadata": {
        "colab": {
          "base_uri": "https://localhost:8080/"
        },
        "id": "_BIa_Tg1eWoP",
        "outputId": "42714df7-d41d-4568-ea50-f41a846b0331"
      },
      "source": [
        "!pip install scikit-plot"
      ],
      "execution_count": null,
      "outputs": [
        {
          "output_type": "stream",
          "name": "stdout",
          "text": [
            "Collecting scikit-plot\n",
            "  Downloading scikit_plot-0.3.7-py3-none-any.whl (33 kB)\n",
            "Requirement already satisfied: joblib>=0.10 in /usr/local/lib/python3.7/dist-packages (from scikit-plot) (1.1.0)\n",
            "Requirement already satisfied: scipy>=0.9 in /usr/local/lib/python3.7/dist-packages (from scikit-plot) (1.4.1)\n",
            "Requirement already satisfied: scikit-learn>=0.18 in /usr/local/lib/python3.7/dist-packages (from scikit-plot) (1.0.2)\n",
            "Requirement already satisfied: matplotlib>=1.4.0 in /usr/local/lib/python3.7/dist-packages (from scikit-plot) (3.2.2)\n",
            "Requirement already satisfied: numpy>=1.11 in /usr/local/lib/python3.7/dist-packages (from matplotlib>=1.4.0->scikit-plot) (1.19.5)\n",
            "Requirement already satisfied: cycler>=0.10 in /usr/local/lib/python3.7/dist-packages (from matplotlib>=1.4.0->scikit-plot) (0.11.0)\n",
            "Requirement already satisfied: pyparsing!=2.0.4,!=2.1.2,!=2.1.6,>=2.0.1 in /usr/local/lib/python3.7/dist-packages (from matplotlib>=1.4.0->scikit-plot) (3.0.6)\n",
            "Requirement already satisfied: kiwisolver>=1.0.1 in /usr/local/lib/python3.7/dist-packages (from matplotlib>=1.4.0->scikit-plot) (1.3.2)\n",
            "Requirement already satisfied: python-dateutil>=2.1 in /usr/local/lib/python3.7/dist-packages (from matplotlib>=1.4.0->scikit-plot) (2.8.2)\n",
            "Requirement already satisfied: six>=1.5 in /usr/local/lib/python3.7/dist-packages (from python-dateutil>=2.1->matplotlib>=1.4.0->scikit-plot) (1.15.0)\n",
            "Requirement already satisfied: threadpoolctl>=2.0.0 in /usr/local/lib/python3.7/dist-packages (from scikit-learn>=0.18->scikit-plot) (3.0.0)\n",
            "Installing collected packages: scikit-plot\n",
            "Successfully installed scikit-plot-0.3.7\n"
          ]
        }
      ]
    },
    {
      "cell_type": "code",
      "metadata": {
        "colab": {
          "base_uri": "https://localhost:8080/"
        },
        "id": "zj8HeeQuCWsW",
        "outputId": "970cd3f2-1d07-440b-fcf9-db33eaadfc47"
      },
      "source": [
        "!wget http://infolab.tamu.edu/data/social_honeypot_icwsm_2011.zip"
      ],
      "execution_count": null,
      "outputs": [
        {
          "output_type": "stream",
          "name": "stdout",
          "text": [
            "--2022-01-15 08:14:40--  http://infolab.tamu.edu/data/social_honeypot_icwsm_2011.zip\n",
            "Resolving infolab.tamu.edu (infolab.tamu.edu)... 45.55.217.29\n",
            "Connecting to infolab.tamu.edu (infolab.tamu.edu)|45.55.217.29|:80... connected.\n",
            "HTTP request sent, awaiting response... 301 Moved Permanently\n",
            "Location: https://infolab.tamu.edu/data/social_honeypot_icwsm_2011.zip [following]\n",
            "--2022-01-15 08:14:40--  https://infolab.tamu.edu/data/social_honeypot_icwsm_2011.zip\n",
            "Connecting to infolab.tamu.edu (infolab.tamu.edu)|45.55.217.29|:443... connected.\n",
            "HTTP request sent, awaiting response... 200 OK\n",
            "Length: 263659672 (251M) [application/zip]\n",
            "Saving to: ‘social_honeypot_icwsm_2011.zip’\n",
            "\n",
            "social_honeypot_icw 100%[===================>] 251.45M   112MB/s    in 2.2s    \n",
            "\n",
            "2022-01-15 08:14:42 (112 MB/s) - ‘social_honeypot_icwsm_2011.zip’ saved [263659672/263659672]\n",
            "\n"
          ]
        }
      ]
    },
    {
      "cell_type": "code",
      "metadata": {
        "colab": {
          "base_uri": "https://localhost:8080/"
        },
        "id": "GNqTMnAFCiPp",
        "outputId": "a5f44b87-5f78-4238-fe48-9393179af2b6"
      },
      "source": [
        "!unzip social_honeypot_icwsm_2011.zip"
      ],
      "execution_count": null,
      "outputs": [
        {
          "output_type": "stream",
          "name": "stdout",
          "text": [
            "Archive:  social_honeypot_icwsm_2011.zip\n",
            "   creating: social_honeypot_icwsm_2011/\n",
            "  inflating: social_honeypot_icwsm_2011/content_polluters.txt  \n",
            "   creating: __MACOSX/\n",
            "   creating: __MACOSX/social_honeypot_icwsm_2011/\n",
            "  inflating: __MACOSX/social_honeypot_icwsm_2011/._content_polluters.txt  \n",
            "  inflating: social_honeypot_icwsm_2011/content_polluters_followings.txt  \n",
            "  inflating: __MACOSX/social_honeypot_icwsm_2011/._content_polluters_followings.txt  \n",
            "  inflating: social_honeypot_icwsm_2011/content_polluters_tweets.txt  \n",
            "  inflating: __MACOSX/social_honeypot_icwsm_2011/._content_polluters_tweets.txt  \n",
            "  inflating: social_honeypot_icwsm_2011/legitimate_users.txt  \n",
            "  inflating: __MACOSX/social_honeypot_icwsm_2011/._legitimate_users.txt  \n",
            "  inflating: social_honeypot_icwsm_2011/legitimate_users_followings.txt  \n",
            "  inflating: __MACOSX/social_honeypot_icwsm_2011/._legitimate_users_followings.txt  \n",
            "  inflating: social_honeypot_icwsm_2011/legitimate_users_tweets.txt  \n",
            "  inflating: __MACOSX/social_honeypot_icwsm_2011/._legitimate_users_tweets.txt  \n",
            "  inflating: social_honeypot_icwsm_2011/social_honeypot_icwsm_2011.pdf  \n",
            "  inflating: __MACOSX/social_honeypot_icwsm_2011/._social_honeypot_icwsm_2011.pdf  \n",
            "  inflating: __MACOSX/._social_honeypot_icwsm_2011  \n"
          ]
        }
      ]
    },
    {
      "cell_type": "code",
      "metadata": {
        "id": "wb2P33wJQXxu"
      },
      "source": [
        "import pandas as pd\n",
        "import numpy as np\n",
        "import re, string\n",
        "\n",
        "from scipy.stats import zscore\n",
        "from sklearn.tree import export_graphviz\n",
        "from sklearn.tree import DecisionTreeClassifier\n",
        "from sklearn.ensemble import RandomForestClassifier\n",
        "from sklearn.naive_bayes import GaussianNB\n",
        "from sklearn.svm import SVC\n",
        "from sklearn.model_selection import train_test_split\n",
        "from sklearn import metrics\n",
        "from sklearn.metrics import precision_score\n",
        "from sklearn.metrics import recall_score\n",
        "from sklearn.metrics import f1_score\n",
        "from sklearn.metrics import roc_auc_score\n",
        "from sklearn.metrics import roc_curve\n",
        "import scikitplot as skplt\n",
        "import matplotlib.pyplot as plt"
      ],
      "execution_count": null,
      "outputs": []
    },
    {
      "cell_type": "code",
      "metadata": {
        "id": "UOy4rOeGQb2z"
      },
      "source": [
        "def func(string):\n",
        "   return pd.Series(string.split(',')).astype(int)\n",
        "   \n",
        "dfContent_polluters = pd.read_csv('social_honeypot_icwsm_2011/content_polluters.txt',sep='\\t', names=\n",
        "                 [\"UserID\",\"CreatedAt\",\"CollectedAt\",\"NumberOfFollowings\",\"NumberOfFollowers\",\n",
        "                  \"NumberOfTweets\",\"LengthOfScreenName\",\"LengthOfDescriptionInUserProfile\"],\n",
        "                parse_dates=[\"CreatedAt\",\"CollectedAt\"])\n",
        "\n",
        "dfContent_polluters_followings = pd.read_csv('social_honeypot_icwsm_2011/content_polluters_followings.txt',sep='\\t', names=\n",
        "                 [\"UserID\",\"SeriesOfNumberOfFollowings\"],converters={\"SeriesOfNumberOfFollowings\":func},index_col=0)\n",
        "\n",
        "dfLegitimate_users = pd.read_csv('social_honeypot_icwsm_2011/legitimate_users.txt',sep='\\t', names=\n",
        "                 [\"UserID\",\"CreatedAt\",\"CollectedAt\",\"NumberOfFollowings\",\"NumberOfFollowers\",\n",
        "                  \"NumberOfTweets\",\"LengthOfScreenName\",\"LengthOfDescriptionInUserProfile\"],\n",
        "                parse_dates=[\"CreatedAt\",\"CollectedAt\"])\n",
        "\n",
        "dfLegitimate_users_followings = pd.read_csv('social_honeypot_icwsm_2011/legitimate_users_followings.txt',sep='\\t', names=\n",
        "                 [\"UserID\",\"SeriesOfNumberOfFollowings\"],converters={\"SeriesOfNumberOfFollowings\":func},index_col=0)"
      ],
      "execution_count": null,
      "outputs": []
    },
    {
      "cell_type": "code",
      "metadata": {
        "id": "IvimmiD0VBEC"
      },
      "source": [
        "def get_user_id(data_frame) :\n",
        "  df = pd.DataFrame({\"UserID\":data_frame[\"UserID\"]})\n",
        "  return df"
      ],
      "execution_count": null,
      "outputs": []
    },
    {
      "cell_type": "code",
      "metadata": {
        "id": "WKXfyUpDVVWk"
      },
      "source": [
        "data_set_polluters = get_user_id(dfContent_polluters)\n",
        "\n",
        "data_set_legitimate = get_user_id(dfLegitimate_users)"
      ],
      "execution_count": null,
      "outputs": []
    },
    {
      "cell_type": "code",
      "metadata": {
        "id": "K64UkVncYPh8"
      },
      "source": [
        "data_set_polluters.insert(0,\"Class\",1)\n",
        "data_set_legitimate.insert(0,\"Class\",0)"
      ],
      "execution_count": null,
      "outputs": []
    },
    {
      "cell_type": "code",
      "metadata": {
        "id": "B1p7i4CQYXP8"
      },
      "source": [
        "data_set_users=pd.concat([data_set_polluters,data_set_legitimate])"
      ],
      "execution_count": null,
      "outputs": []
    },
    {
      "cell_type": "code",
      "metadata": {
        "id": "jzmrzdH3d2Gg"
      },
      "source": [
        "def attributesOfUniqueValues(data_set_users) :\n",
        "  list=[]\n",
        "  for col in data_set_users.columns:\n",
        "    if (data_set_users[col]==data_set_users[col].iloc[0]).all == True:\n",
        "      list.append(col)\n",
        "  return data_set_users.drop(list)"
      ],
      "execution_count": null,
      "outputs": []
    },
    {
      "cell_type": "code",
      "metadata": {
        "id": "n6M7jmkyd_Il"
      },
      "source": [
        "def duplicateRows(data_set_users):\n",
        "  return data_set_users.drop_duplicates()"
      ],
      "execution_count": null,
      "outputs": []
    },
    {
      "cell_type": "code",
      "metadata": {
        "id": "Jt7MBNHJeBkx"
      },
      "source": [
        "def missingValues(data_set_users):\n",
        "  valuesReplaced = data_set_users.replace([np.inf,-np.inf],np.nan)\n",
        "  valuesReplaced.fillna(0,inplace=True)\n",
        "  return valuesReplaced"
      ],
      "execution_count": null,
      "outputs": []
    },
    {
      "cell_type": "code",
      "metadata": {
        "id": "338FQjojeHJV"
      },
      "source": [
        "def shiftCol(data_set_users):\n",
        "  df=data_set_users.drop([\"Class\"],axis=1)\n",
        "  # df=df.apply(zscore)\n",
        "  df[\"Class\"]=data_set_users[\"Class\"]\n",
        "  return df"
      ],
      "execution_count": null,
      "outputs": []
    },
    {
      "cell_type": "code",
      "metadata": {
        "id": "HOLtAYmVeJWN"
      },
      "source": [
        "data_set_polluters=attributesOfUniqueValues(data_set_polluters)\n",
        "data_set_polluters=duplicateRows(data_set_polluters)\n",
        "data_set_polluters=missingValues(data_set_polluters)\n",
        "data_set_polluters=shiftCol(data_set_polluters)"
      ],
      "execution_count": null,
      "outputs": []
    },
    {
      "cell_type": "code",
      "metadata": {
        "id": "KXPRTaUKNRBv"
      },
      "source": [
        "data_set_legitimate=attributesOfUniqueValues(data_set_legitimate)\n",
        "data_set_legitimate=duplicateRows(data_set_legitimate)\n",
        "data_set_legitimate=missingValues(data_set_legitimate)\n",
        "data_set_legitimate=shiftCol(data_set_legitimate)"
      ],
      "execution_count": null,
      "outputs": []
    },
    {
      "cell_type": "code",
      "metadata": {
        "id": "_u4XOiYZe9GY"
      },
      "source": [
        "export_csv = data_set_users.to_csv (r'data_set_users.csv', index = None, header=True)"
      ],
      "execution_count": null,
      "outputs": []
    },
    {
      "cell_type": "code",
      "metadata": {
        "id": "Rulz51dyNZTV"
      },
      "source": [
        "export_csv = data_set_polluters.to_csv (r'data_set_polluters.csv', index = None, header=True)"
      ],
      "execution_count": null,
      "outputs": []
    },
    {
      "cell_type": "code",
      "metadata": {
        "id": "sPFDMJ9MNZF3"
      },
      "source": [
        "export_csv = data_set_legitimate.to_csv (r'data_set_legitimate.csv', index = None, header=True)"
      ],
      "execution_count": null,
      "outputs": []
    },
    {
      "cell_type": "code",
      "source": [
        "dfContent_polluters_followings"
      ],
      "metadata": {
        "colab": {
          "base_uri": "https://localhost:8080/",
          "height": 455
        },
        "id": "q1gQUKKQL-GW",
        "outputId": "cc1e0ab9-764d-4b80-d3f4-eb31f82d9110"
      },
      "execution_count": null,
      "outputs": [
        {
          "output_type": "execute_result",
          "data": {
            "text/html": [
              "\n",
              "  <div id=\"df-ca785872-c958-4195-9ef3-44555fe5b21e\">\n",
              "    <div class=\"colab-df-container\">\n",
              "      <div>\n",
              "<style scoped>\n",
              "    .dataframe tbody tr th:only-of-type {\n",
              "        vertical-align: middle;\n",
              "    }\n",
              "\n",
              "    .dataframe tbody tr th {\n",
              "        vertical-align: top;\n",
              "    }\n",
              "\n",
              "    .dataframe thead th {\n",
              "        text-align: right;\n",
              "    }\n",
              "</style>\n",
              "<table border=\"1\" class=\"dataframe\">\n",
              "  <thead>\n",
              "    <tr style=\"text-align: right;\">\n",
              "      <th></th>\n",
              "      <th>SeriesOfNumberOfFollowings</th>\n",
              "    </tr>\n",
              "    <tr>\n",
              "      <th>UserID</th>\n",
              "      <th></th>\n",
              "    </tr>\n",
              "  </thead>\n",
              "  <tbody>\n",
              "    <tr>\n",
              "      <th>6301</th>\n",
              "      <td>0      3269\n",
              "1      3310\n",
              "2      3339\n",
              "3      338...</td>\n",
              "    </tr>\n",
              "    <tr>\n",
              "      <th>10836</th>\n",
              "      <td>0      1949\n",
              "1      1963\n",
              "2      1963\n",
              "3      196...</td>\n",
              "    </tr>\n",
              "    <tr>\n",
              "      <th>10997</th>\n",
              "      <td>0      1119\n",
              "1      1119\n",
              "2       999\n",
              "3       99...</td>\n",
              "    </tr>\n",
              "    <tr>\n",
              "      <th>633293</th>\n",
              "      <td>0      2174\n",
              "1      2651\n",
              "2      2676\n",
              "3      267...</td>\n",
              "    </tr>\n",
              "    <tr>\n",
              "      <th>717883</th>\n",
              "      <td>0      7731\n",
              "1      7737\n",
              "2      7737\n",
              "3      774...</td>\n",
              "    </tr>\n",
              "    <tr>\n",
              "      <th>...</th>\n",
              "      <td>...</td>\n",
              "    </tr>\n",
              "    <tr>\n",
              "      <th>173715049</th>\n",
              "      <td>0     63\n",
              "1    118\n",
              "2    178\n",
              "3    208\n",
              "dtype: int64</td>\n",
              "    </tr>\n",
              "    <tr>\n",
              "      <th>173718053</th>\n",
              "      <td>0     83\n",
              "1    122\n",
              "2    157\n",
              "3    194\n",
              "dtype: int64</td>\n",
              "    </tr>\n",
              "    <tr>\n",
              "      <th>173721018</th>\n",
              "      <td>0     67\n",
              "1    106\n",
              "2    145\n",
              "3    193\n",
              "dtype: int64</td>\n",
              "    </tr>\n",
              "    <tr>\n",
              "      <th>173723395</th>\n",
              "      <td>0     35\n",
              "1     85\n",
              "2    125\n",
              "3    172\n",
              "dtype: int64</td>\n",
              "    </tr>\n",
              "    <tr>\n",
              "      <th>173766965</th>\n",
              "      <td>0    12\n",
              "1    14\n",
              "2    14\n",
              "3    14\n",
              "dtype: int64</td>\n",
              "    </tr>\n",
              "  </tbody>\n",
              "</table>\n",
              "<p>22223 rows × 1 columns</p>\n",
              "</div>\n",
              "      <button class=\"colab-df-convert\" onclick=\"convertToInteractive('df-ca785872-c958-4195-9ef3-44555fe5b21e')\"\n",
              "              title=\"Convert this dataframe to an interactive table.\"\n",
              "              style=\"display:none;\">\n",
              "        \n",
              "  <svg xmlns=\"http://www.w3.org/2000/svg\" height=\"24px\"viewBox=\"0 0 24 24\"\n",
              "       width=\"24px\">\n",
              "    <path d=\"M0 0h24v24H0V0z\" fill=\"none\"/>\n",
              "    <path d=\"M18.56 5.44l.94 2.06.94-2.06 2.06-.94-2.06-.94-.94-2.06-.94 2.06-2.06.94zm-11 1L8.5 8.5l.94-2.06 2.06-.94-2.06-.94L8.5 2.5l-.94 2.06-2.06.94zm10 10l.94 2.06.94-2.06 2.06-.94-2.06-.94-.94-2.06-.94 2.06-2.06.94z\"/><path d=\"M17.41 7.96l-1.37-1.37c-.4-.4-.92-.59-1.43-.59-.52 0-1.04.2-1.43.59L10.3 9.45l-7.72 7.72c-.78.78-.78 2.05 0 2.83L4 21.41c.39.39.9.59 1.41.59.51 0 1.02-.2 1.41-.59l7.78-7.78 2.81-2.81c.8-.78.8-2.07 0-2.86zM5.41 20L4 18.59l7.72-7.72 1.47 1.35L5.41 20z\"/>\n",
              "  </svg>\n",
              "      </button>\n",
              "      \n",
              "  <style>\n",
              "    .colab-df-container {\n",
              "      display:flex;\n",
              "      flex-wrap:wrap;\n",
              "      gap: 12px;\n",
              "    }\n",
              "\n",
              "    .colab-df-convert {\n",
              "      background-color: #E8F0FE;\n",
              "      border: none;\n",
              "      border-radius: 50%;\n",
              "      cursor: pointer;\n",
              "      display: none;\n",
              "      fill: #1967D2;\n",
              "      height: 32px;\n",
              "      padding: 0 0 0 0;\n",
              "      width: 32px;\n",
              "    }\n",
              "\n",
              "    .colab-df-convert:hover {\n",
              "      background-color: #E2EBFA;\n",
              "      box-shadow: 0px 1px 2px rgba(60, 64, 67, 0.3), 0px 1px 3px 1px rgba(60, 64, 67, 0.15);\n",
              "      fill: #174EA6;\n",
              "    }\n",
              "\n",
              "    [theme=dark] .colab-df-convert {\n",
              "      background-color: #3B4455;\n",
              "      fill: #D2E3FC;\n",
              "    }\n",
              "\n",
              "    [theme=dark] .colab-df-convert:hover {\n",
              "      background-color: #434B5C;\n",
              "      box-shadow: 0px 1px 3px 1px rgba(0, 0, 0, 0.15);\n",
              "      filter: drop-shadow(0px 1px 2px rgba(0, 0, 0, 0.3));\n",
              "      fill: #FFFFFF;\n",
              "    }\n",
              "  </style>\n",
              "\n",
              "      <script>\n",
              "        const buttonEl =\n",
              "          document.querySelector('#df-ca785872-c958-4195-9ef3-44555fe5b21e button.colab-df-convert');\n",
              "        buttonEl.style.display =\n",
              "          google.colab.kernel.accessAllowed ? 'block' : 'none';\n",
              "\n",
              "        async function convertToInteractive(key) {\n",
              "          const element = document.querySelector('#df-ca785872-c958-4195-9ef3-44555fe5b21e');\n",
              "          const dataTable =\n",
              "            await google.colab.kernel.invokeFunction('convertToInteractive',\n",
              "                                                     [key], {});\n",
              "          if (!dataTable) return;\n",
              "\n",
              "          const docLinkHtml = 'Like what you see? Visit the ' +\n",
              "            '<a target=\"_blank\" href=https://colab.research.google.com/notebooks/data_table.ipynb>data table notebook</a>'\n",
              "            + ' to learn more about interactive tables.';\n",
              "          element.innerHTML = '';\n",
              "          dataTable['output_type'] = 'display_data';\n",
              "          await google.colab.output.renderOutput(dataTable, element);\n",
              "          const docLink = document.createElement('div');\n",
              "          docLink.innerHTML = docLinkHtml;\n",
              "          element.appendChild(docLink);\n",
              "        }\n",
              "      </script>\n",
              "    </div>\n",
              "  </div>\n",
              "  "
            ],
            "text/plain": [
              "                                  SeriesOfNumberOfFollowings\n",
              "UserID                                                      \n",
              "6301       0      3269\n",
              "1      3310\n",
              "2      3339\n",
              "3      338...\n",
              "10836      0      1949\n",
              "1      1963\n",
              "2      1963\n",
              "3      196...\n",
              "10997      0      1119\n",
              "1      1119\n",
              "2       999\n",
              "3       99...\n",
              "633293     0      2174\n",
              "1      2651\n",
              "2      2676\n",
              "3      267...\n",
              "717883     0      7731\n",
              "1      7737\n",
              "2      7737\n",
              "3      774...\n",
              "...                                                      ...\n",
              "173715049   0     63\n",
              "1    118\n",
              "2    178\n",
              "3    208\n",
              "dtype: int64\n",
              "173718053   0     83\n",
              "1    122\n",
              "2    157\n",
              "3    194\n",
              "dtype: int64\n",
              "173721018   0     67\n",
              "1    106\n",
              "2    145\n",
              "3    193\n",
              "dtype: int64\n",
              "173723395   0     35\n",
              "1     85\n",
              "2    125\n",
              "3    172\n",
              "dtype: int64\n",
              "173766965       0    12\n",
              "1    14\n",
              "2    14\n",
              "3    14\n",
              "dtype: int64\n",
              "\n",
              "[22223 rows x 1 columns]"
            ]
          },
          "metadata": {},
          "execution_count": 19
        }
      ]
    },
    {
      "cell_type": "code",
      "metadata": {
        "id": "9SYl_Gt5g-2W"
      },
      "source": [
        "# X=data_set_users.drop(['Class'],axis=1)\n",
        "# X=X.values\n",
        "# Y=data_set_users[\"Class\"].values\n",
        "# train, test, target, trueResult = train_test_split(X, Y, test_size=0.3, random_state=1)"
      ],
      "execution_count": null,
      "outputs": []
    },
    {
      "cell_type": "code",
      "source": [
        "!pip install networkx"
      ],
      "metadata": {
        "colab": {
          "base_uri": "https://localhost:8080/"
        },
        "id": "f9a-tK4aOsCv",
        "outputId": "6d3809c1-c596-45ce-cd4d-e6d8936446f9"
      },
      "execution_count": null,
      "outputs": [
        {
          "output_type": "stream",
          "name": "stdout",
          "text": [
            "Requirement already satisfied: networkx in /usr/local/lib/python3.7/dist-packages (2.6.3)\n"
          ]
        }
      ]
    },
    {
      "cell_type": "code",
      "source": [
        "import networkx as nx\n",
        "import matplotlib.pyplot as plt\n",
        "%matplotlib inline "
      ],
      "metadata": {
        "id": "1qyqbSszOvJB"
      },
      "execution_count": null,
      "outputs": []
    },
    {
      "cell_type": "code",
      "metadata": {
        "id": "ATDX3ay6a3F5"
      },
      "source": [
        "import tweepy as tweepy\n"
      ],
      "execution_count": null,
      "outputs": []
    },
    {
      "cell_type": "code",
      "metadata": {
        "id": "tSvCRAKoa6qw"
      },
      "source": [
        "# authenticaing twitter api user\n",
        "consumer_key  = 'd9Ksoz6Wb1jD0mqbW8rjaSNb7'\n",
        "consumer_secret = 'pHXnVSJeLbOxaYlbOR7BWFdDNhZSF6IzegZV87qUSUqy6Qe8qG'\n",
        "access_token = '3648603434-dGRu1nHet22tdoYeqaAGoN8MyZrNw9oXZQvGZUD'\n",
        "access_token_secret = 'PZ8pcQBCb5zVPLRQNVQZc3Yzi0rz1wPef6O7RO7gzcvOf'\n",
        "\n",
        "auth = tweepy.OAuthHandler(consumer_key, consumer_secret)\n",
        "auth.set_access_token(access_token, access_token_secret)\n",
        "\n",
        "api = tweepy.API(auth,wait_on_rate_limit=True)"
      ],
      "execution_count": null,
      "outputs": []
    },
    {
      "cell_type": "code",
      "source": [
        "# ID = 11142774119\n",
        "# retweets_list = api.retweets(ID)\n",
        "  \n",
        "# # printing the screen names of the retweeters\n",
        "# for retweet in retweets_list:\n",
        "#     print(retweet.user.screen_name)"
      ],
      "metadata": {
        "id": "yv0fVVLVC6lG"
      },
      "execution_count": null,
      "outputs": []
    },
    {
      "cell_type": "code",
      "source": [
        "# data_set_users"
      ],
      "metadata": {
        "id": "WFqVVU5FwiTr"
      },
      "execution_count": null,
      "outputs": []
    },
    {
      "cell_type": "code",
      "source": [
        "# userListpolluters = []\n",
        "# for index , row in data_set_polluters.iterrows():\n",
        "#     try:\n",
        "#         print(row['UserID'])\n",
        "#         u=api.get_user(row['UserID'])\n",
        "#         userListpolluters.append(u.id_str)\n",
        "#     except Exception:\n",
        "#           data_set_polluters.drop(index)\n",
        "#           pass"
      ],
      "metadata": {
        "id": "_VXTDUp2IzFs"
      },
      "execution_count": null,
      "outputs": []
    },
    {
      "cell_type": "code",
      "source": [
        "# export_csv = data_set_polluters.to_csv (r'dfUserspolluters.csv', index = None, header=True)"
      ],
      "metadata": {
        "id": "TAeHHBB9Jwe0"
      },
      "execution_count": null,
      "outputs": []
    },
    {
      "cell_type": "code",
      "source": [
        "# dfUserspolluters = pd.DataFrame(userListpolluters)"
      ],
      "metadata": {
        "id": "FxdTWcKDJ8Di"
      },
      "execution_count": null,
      "outputs": []
    },
    {
      "cell_type": "code",
      "source": [
        "# dfUserspolluters\n",
        "# export_csv = dfUserspolluters.to_csv (r'dfUserspolluters2.csv', index = None, header=True)"
      ],
      "metadata": {
        "id": "eaYwg63MQDvD"
      },
      "execution_count": null,
      "outputs": []
    },
    {
      "cell_type": "code",
      "metadata": {
        "id": "6qef16vZYYXQ"
      },
      "source": [
        "# userListpolluters = []\n",
        "# for x in data_set_polluters['UserID']:\n",
        "#     try:\n",
        "#         u=api.get_user(x)\n",
        "#         userListpolluters.append(u.id_str)\n",
        "#     except Exception:\n",
        "#           pass"
      ],
      "execution_count": null,
      "outputs": []
    },
    {
      "cell_type": "code",
      "metadata": {
        "id": "C5O2w3neNnno"
      },
      "source": [
        "# userListlegitimate = []\n",
        "# for x in data_set_legitimate['UserID']:\n",
        "#     try:\n",
        "#         u=api.get_user(x)\n",
        "#         userListlegitimate.append(u.id_str)\n",
        "#     except Exception:\n",
        "#           pass"
      ],
      "execution_count": null,
      "outputs": []
    },
    {
      "cell_type": "code",
      "metadata": {
        "id": "LtBgzP9OYrgu"
      },
      "source": [
        "# dfUserspolluters = pd.DataFrame(userListpolluters, columns = ['UserID'])\n",
        "# dfUserspolluters.insert(0,\"Class\",1)\n",
        "\n",
        "# dfUserslegitimate = pd.DataFrame(userListlegitimate, columns = ['UserID'])\n",
        "# dfUserslegitimate.insert(0,\"Class\",0)"
      ],
      "execution_count": null,
      "outputs": []
    },
    {
      "cell_type": "code",
      "metadata": {
        "id": "VKfzZIM9VeSp"
      },
      "source": [
        "# export_csv = dfUserspolluters.to_csv (r'dfUserspolluters.csv', index = None, header=True)\n",
        "# export_csv = dfUserslegitimate.to_csv (r'dfUserslegitimate.csv', index = None, header=True)"
      ],
      "execution_count": null,
      "outputs": []
    },
    {
      "cell_type": "code",
      "metadata": {
        "id": "si3zfbDPoejJ"
      },
      "source": [
        "# dfUserspolluters=dfUserspolluters.drop([\"Class\"],axis=1)\n",
        "# dfUserspolluters.shape"
      ],
      "execution_count": null,
      "outputs": []
    },
    {
      "cell_type": "code",
      "metadata": {
        "id": "TaTG3dazojV1"
      },
      "source": [
        "# dfUserslegitimate=dfUserslegitimate.drop([\"Class\"],axis=1)\n",
        "# dfUserslegitimate.shape"
      ],
      "execution_count": null,
      "outputs": []
    },
    {
      "cell_type": "code",
      "metadata": {
        "id": "KL9LOpN1RmPn"
      },
      "source": [
        "# Create a mostly empty data frame,\n",
        "# and write it to a CSV file.\n",
        "# df = pd.DataFrame(columns=['ID','followers'])\n",
        "# df.to_csv('followers.csv', index=False,header=False)\n",
        "\n",
        "# # Our function\n",
        "# def save_followers(fid, followers):\n",
        "#     df = pd.DataFrame([[fid, followers]])\n",
        "#     with open('followers.csv', 'a') as f:\n",
        "#         df.to_csv(f,header=False, index=False)"
      ],
      "execution_count": null,
      "outputs": []
    },
    {
      "cell_type": "code",
      "metadata": {
        "id": "vomzr0Z3sThu"
      },
      "source": [
        "\n",
        "#sorting the top friends\n",
        "# dfExample = dfUserslegitimate[:5]\n",
        "# dfExample\n"
      ],
      "execution_count": null,
      "outputs": []
    },
    {
      "cell_type": "code",
      "metadata": {
        "id": "tiGZ3RntGLvh"
      },
      "source": [
        "# for seed_id in dfUserslegitimate['UserID']:\n",
        "# print(\"60742090   follwers \")\n",
        "# friendids = api.friends_ids(id=60742090)\n",
        "# print(\"60742090   finish \")\n",
        "# for second_id in dfUserslegitimate['UserID']:\n",
        "#     if (second_id in friendids) :\n",
        "#         print(\" 60742090   ---- \", second_id)\n",
        "# for third_id in dfUserspolluters['UserID']:\n",
        "#     if (third_id in friendids) :\n",
        "#         print(\" 60742090   ---- \", second_id)\n",
        "# #     top5_friends = api.friends(id=seed_id)[:5]\n",
        "# #     for friend in top5_friends:\n",
        "# #         friendsList.append(friend.screen_name)\n",
        "# #         print(friend.screen_name)\n",
        "# save_followers(user_id, friend_id)"
      ],
      "execution_count": null,
      "outputs": []
    },
    {
      "cell_type": "code",
      "metadata": {
        "id": "G8f5381E4-u3"
      },
      "source": [
        "# friends = api.friends_ids(id=\"20293152\")"
      ],
      "execution_count": null,
      "outputs": []
    },
    {
      "cell_type": "code",
      "metadata": {
        "id": "FX-diYgt5KGb"
      },
      "source": [
        "# for friend in api.friends(id=\"20293152\")[:5]:\n",
        "#    friends.append(friend.screen_name)\n",
        "#    print(friend.screen_name)"
      ],
      "execution_count": null,
      "outputs": []
    },
    {
      "cell_type": "code",
      "metadata": {
        "id": "-yPQeHQ5q_oB"
      },
      "source": [
        "# friendsList = []\n",
        "# for seed_id in dfExample['UserID']:\n",
        "#     top5_friends = api.friends(id=seed_id)[:5]\n",
        "#     for friend in top5_friends:\n",
        "#         friendsList.append(friend.screen_name)\n",
        "#         print(friend.screen_name)\n",
        "    # for user_id, friend_id in [(user_id, friend_id) for user_id in [int(seed_id)] \n",
        "    #     for friend_id in top5_friends]:\n",
        "    #     save_followers(user_id, friend_id)"
      ],
      "execution_count": null,
      "outputs": []
    },
    {
      "cell_type": "code",
      "metadata": {
        "id": "0VqvReqsP_wk"
      },
      "source": [
        "# for user_id, friend_id in [(user_id, friend_id) for user_id in [int(seed_id)] \n",
        "#     for friend_id in top5_friends]:\n",
        "#     save_followers(user_id, friend_id)"
      ],
      "execution_count": null,
      "outputs": []
    },
    {
      "cell_type": "code",
      "metadata": {
        "id": "DITY6Fxk0XJA"
      },
      "source": [
        "# userList = []\n",
        "# for x in data_set_users['UserID']:\n",
        "#     try:\n",
        "#         u=api.get_user(x)\n",
        "#         userList.append(u.id_str)\n",
        "#     except Exception:\n",
        "#           pass"
      ],
      "execution_count": null,
      "outputs": []
    },
    {
      "cell_type": "code",
      "metadata": {
        "id": "9zm4Ntl3Yde6"
      },
      "source": [
        "# dfUsers = pd.DataFrame(userList, columns = ['UserID'])"
      ],
      "execution_count": null,
      "outputs": []
    },
    {
      "cell_type": "code",
      "metadata": {
        "id": "r3y1MlrdkFgU"
      },
      "source": [
        "# dfUsers"
      ],
      "execution_count": null,
      "outputs": []
    },
    {
      "cell_type": "code",
      "metadata": {
        "id": "ji06B0PxIb66"
      },
      "source": [
        "# export_csv = dfUsers.to_csv (r'dfUsers.csv', index = None, header=True)"
      ],
      "execution_count": null,
      "outputs": []
    }
  ]
}