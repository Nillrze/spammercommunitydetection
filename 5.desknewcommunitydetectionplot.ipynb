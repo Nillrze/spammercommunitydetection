{
  "cells": [
    {
      "cell_type": "code",
      "execution_count": null,
      "metadata": {
        "colab": {
          "base_uri": "https://localhost:8080/"
        },
        "id": "CHIyGZegH65w",
        "outputId": "f2eb0186-30ee-4d9d-bb8b-4a5a463f88e3"
      },
      "outputs": [
        {
          "name": "stdout",
          "output_type": "stream",
          "text": [
            "Drive already mounted at /content/drive; to attempt to forcibly remount, call drive.mount(\"/content/drive\", force_remount=True).\n"
          ]
        }
      ],
      "source": [
        "from google.colab import drive\n",
        "drive.mount('/content/drive')"
      ]
    },
    {
      "cell_type": "code",
      "execution_count": null,
      "metadata": {
        "id": "U6_NFdsRHj-R"
      },
      "outputs": [],
      "source": [
        "# !wget http://infolab.tamu.edu/data/social_honeypot_icwsm_2011.zip   "
      ]
    },
    {
      "cell_type": "code",
      "execution_count": null,
      "metadata": {
        "id": "uocgtaPCIArO"
      },
      "outputs": [],
      "source": [
        "# !unzip social_honeypot_icwsm_2011.zip"
      ]
    },
    {
      "cell_type": "code",
      "execution_count": null,
      "metadata": {
        "id": "AQB_WuGyICod"
      },
      "outputs": [],
      "source": [
        "import pandas as pd\n",
        "import numpy as np\n",
        "import re, string\n",
        "import operator\n",
        "import networkx as nx\n",
        "from numba import jit, cuda\n",
        "\n",
        "import timeit"
      ]
    },
    {
      "cell_type": "code",
      "execution_count": null,
      "metadata": {
        "colab": {
          "base_uri": "https://localhost:8080/"
        },
        "id": "If8soMBQ3uRY",
        "outputId": "f63f315d-d1e0-4d19-a1a6-bd363602c04e"
      },
      "outputs": [
        {
          "name": "stdout",
          "output_type": "stream",
          "text": [
            "Looking in indexes: https://pypi.org/simple, https://us-python.pkg.dev/colab-wheels/public/simple/\n",
            "Requirement already satisfied: scikit-plot in /usr/local/lib/python3.7/dist-packages (0.3.7)\n",
            "Requirement already satisfied: scikit-learn>=0.18 in /usr/local/lib/python3.7/dist-packages (from scikit-plot) (1.0.2)\n",
            "Requirement already satisfied: matplotlib>=1.4.0 in /usr/local/lib/python3.7/dist-packages (from scikit-plot) (3.2.2)\n",
            "Requirement already satisfied: scipy>=0.9 in /usr/local/lib/python3.7/dist-packages (from scikit-plot) (1.7.3)\n",
            "Requirement already satisfied: joblib>=0.10 in /usr/local/lib/python3.7/dist-packages (from scikit-plot) (1.1.0)\n",
            "Requirement already satisfied: cycler>=0.10 in /usr/local/lib/python3.7/dist-packages (from matplotlib>=1.4.0->scikit-plot) (0.11.0)\n",
            "Requirement already satisfied: pyparsing!=2.0.4,!=2.1.2,!=2.1.6,>=2.0.1 in /usr/local/lib/python3.7/dist-packages (from matplotlib>=1.4.0->scikit-plot) (3.0.9)\n",
            "Requirement already satisfied: kiwisolver>=1.0.1 in /usr/local/lib/python3.7/dist-packages (from matplotlib>=1.4.0->scikit-plot) (1.4.4)\n",
            "Requirement already satisfied: python-dateutil>=2.1 in /usr/local/lib/python3.7/dist-packages (from matplotlib>=1.4.0->scikit-plot) (2.8.2)\n",
            "Requirement already satisfied: numpy>=1.11 in /usr/local/lib/python3.7/dist-packages (from matplotlib>=1.4.0->scikit-plot) (1.21.6)\n",
            "Requirement already satisfied: typing-extensions in /usr/local/lib/python3.7/dist-packages (from kiwisolver>=1.0.1->matplotlib>=1.4.0->scikit-plot) (4.1.1)\n",
            "Requirement already satisfied: six>=1.5 in /usr/local/lib/python3.7/dist-packages (from python-dateutil>=2.1->matplotlib>=1.4.0->scikit-plot) (1.15.0)\n",
            "Requirement already satisfied: threadpoolctl>=2.0.0 in /usr/local/lib/python3.7/dist-packages (from scikit-learn>=0.18->scikit-plot) (3.1.0)\n"
          ]
        }
      ],
      "source": [
        "!pip install scikit-plot"
      ]
    },
    {
      "cell_type": "code",
      "execution_count": null,
      "metadata": {
        "id": "ma8oSh9L3rAF"
      },
      "outputs": [],
      "source": [
        "from operator import mul\n",
        "import functools\n",
        "from community import community_louvain\n",
        "import community\n",
        "import networkx as nx\n",
        "import matplotlib.pyplot as plt\n",
        "import scikitplot as skplt\n",
        "from sklearn.metrics import roc_curve\n",
        "from sklearn.metrics import roc_auc_score\n",
        "from sklearn.metrics import f1_score\n",
        "from sklearn.metrics import recall_score\n",
        "from sklearn.metrics import precision_score\n",
        "from sklearn import metrics\n",
        "from sklearn.model_selection import train_test_split\n",
        "from sklearn.svm import SVC\n",
        "from sklearn.naive_bayes import GaussianNB\n",
        "from sklearn.ensemble import RandomForestClassifier\n",
        "from sklearn.tree import DecisionTreeClassifier\n",
        "from sklearn.tree import export_graphviz\n",
        "from scipy.stats import zscore\n",
        "\n",
        "import matplotlib.pyplot as plt\n",
        "from operator import itemgetter"
      ]
    },
    {
      "cell_type": "code",
      "execution_count": null,
      "metadata": {
        "id": "cqLecmrovUpJ"
      },
      "outputs": [],
      "source": []
    },
    {
      "cell_type": "code",
      "execution_count": null,
      "metadata": {
        "id": "x9Yp-aVBIFFX"
      },
      "outputs": [],
      "source": [
        "\n",
        "def func(string):\n",
        "   return pd.Series(string.split(',')).astype(int)\n",
        "  \n",
        "  \n",
        "dfContent_polluters = pd.read_csv('social_honeypot_icwsm_2011/content_polluters.txt',sep='\\t', names=\n",
        "                 [\"UserID\",\"CreatedAt\",\"CollectedAt\",\"NumberOfFollowings\",\"NumberOfFollowers\",\n",
        "                  \"NumberOfTweets\",\"LengthOfScreenName\",\"LengthOfDescriptionInUserProfile\"],\n",
        "                parse_dates=[\"CreatedAt\",\"CollectedAt\"])\n",
        "\n",
        "dfContent_polluters_followings = pd.read_csv('social_honeypot_icwsm_2011/content_polluters_followings.txt',sep='\\t', names=\n",
        "                 [\"UserID\",\"SeriesOfNumberOfFollowings\"],converters={\"SeriesOfNumberOfFollowings\":func},index_col=0)\n",
        "\n",
        "dfContent_polluters_tweets = pd.read_csv('social_honeypot_icwsm_2011/content_polluters_tweets.txt',sep='\\t', names=\n",
        "                 [\"UserID\",\"TweetID\",\"Tweet\",\"CreatedAt\"], parse_dates=[\"CreatedAt\"],index_col=0)\n",
        "\n",
        "dfLegitimate_users = pd.read_csv('social_honeypot_icwsm_2011/legitimate_users.txt',sep='\\t', names=\n",
        "                 [\"UserID\",\"CreatedAt\",\"CollectedAt\",\"NumberOfFollowings\",\"NumberOfFollowers\",\n",
        "                  \"NumberOfTweets\",\"LengthOfScreenName\",\"LengthOfDescriptionInUserProfile\"],\n",
        "                parse_dates=[\"CreatedAt\",\"CollectedAt\"])\n",
        "\n",
        "dfLegitimate_users_followings = pd.read_csv('social_honeypot_icwsm_2011/legitimate_users_followings.txt',sep='\\t', names=\n",
        "                 [\"UserID\",\"SeriesOfNumberOfFollowings\"],converters={\"SeriesOfNumberOfFollowings\":func},index_col=0)\n",
        "\n",
        "\n",
        "dfLegitimate_users_tweets = pd.read_csv('social_honeypot_icwsm_2011/legitimate_users_tweets.txt',sep='\\t', names=\n",
        "                 [\"UserID\",\"TweetID\",\"Tweet\",\"CreatedAt\"], parse_dates=[\"CreatedAt\"],index_col=0)"
      ]
    },
    {
      "cell_type": "code",
      "execution_count": null,
      "metadata": {
        "id": "9Mn5oX4WOnaq"
      },
      "outputs": [],
      "source": [
        "start = timeit.default_timer()"
      ]
    },
    {
      "cell_type": "code",
      "execution_count": null,
      "metadata": {
        "id": "ABq-33nqjX-n"
      },
      "outputs": [],
      "source": [
        "otherFakeUser = []\n",
        "with open('/content/drive/MyDrive/otherfakeuser.txt', 'r') as f:\n",
        "    for line in f:\n",
        "        otherFakeUser.append(line)"
      ]
    },
    {
      "cell_type": "code",
      "execution_count": null,
      "metadata": {
        "colab": {
          "base_uri": "https://localhost:8080/"
        },
        "id": "iIabk4QNR2r6",
        "outputId": "598e13a1-7861-4d26-d1fd-5ad8c6fa8421"
      },
      "outputs": [
        {
          "data": {
            "text/plain": [
              "18179"
            ]
          },
          "execution_count": 10,
          "metadata": {},
          "output_type": "execute_result"
        }
      ],
      "source": [
        "len(otherFakeUser)"
      ]
    },
    {
      "cell_type": "code",
      "execution_count": null,
      "metadata": {
        "id": "sdxbka2ou_jJ"
      },
      "outputs": [],
      "source": [
        "def get_user_id(data_frame):\n",
        "    df = pd.DataFrame({\"UserID\": data_frame[\"UserID\"]})\n",
        "    return df"
      ]
    },
    {
      "cell_type": "code",
      "execution_count": null,
      "metadata": {
        "id": "K8Cov6AFm6ls"
      },
      "outputs": [],
      "source": []
    },
    {
      "cell_type": "code",
      "execution_count": null,
      "metadata": {
        "colab": {
          "base_uri": "https://localhost:8080/"
        },
        "id": "aYbpdK4QvHIx",
        "outputId": "928113cb-9cca-4a57-f92d-1eea43bd01af"
      },
      "outputs": [
        {
          "name": "stdout",
          "output_type": "stream",
          "text": [
            "data_set_users :  41499\n"
          ]
        }
      ],
      "source": [
        "data_Users_polluters = get_user_id(dfContent_polluters)\n",
        "data_Users_legitimate = get_user_id(dfLegitimate_users)\n",
        "\n",
        "# data_Users_polluters.insert(0,\"Class\",1)\n",
        "# data_Users_legitimate.insert(0,\"Class\",0)\n",
        "\n",
        "data_set_users = pd.concat([data_Users_polluters, data_Users_legitimate])\n",
        "\n",
        "print(\"data_set_users : \",len(data_set_users))\n",
        "\n",
        "    # /////////////////////////////////////////////////////\n",
        "    # print(\"dfLegitimate_users_followings : \",len(dfLegitimate_users_followings))\n",
        "    # print(\"dfContent_polluters_followings : \",len(dfContent_polluters_followings))\n",
        "\n",
        "# dfLegitimate_users_followings = dfLegitimate_users_followings.head(100)\n",
        "# dfContent_polluters_followings = dfContent_polluters_followings.head(100)"
      ]
    },
    {
      "cell_type": "code",
      "execution_count": null,
      "metadata": {
        "id": "qFyqQObrMNnD"
      },
      "outputs": [],
      "source": []
    },
    {
      "cell_type": "code",
      "execution_count": null,
      "metadata": {
        "colab": {
          "base_uri": "https://localhost:8080/"
        },
        "id": "RwK5tqa6vEpa",
        "outputId": "a8472f34-4c0a-4c0c-9f55-825abf0c8b56"
      },
      "outputs": [
        {
          "name": "stdout",
          "output_type": "stream",
          "text": [
            "node_list :  93247\n"
          ]
        }
      ],
      "source": [
        "\n",
        "# /////////////////////////////////////////////////////\n",
        "\n",
        "node_list = []\n",
        "\n",
        "for UserID, SeriesOfNumberOfFollowings in dfLegitimate_users_followings.itertuples():\n",
        "    node_list.append(int(UserID))\n",
        "    for fo in SeriesOfNumberOfFollowings:\n",
        "        # if fo in data_set_users['UserID'].values :\n",
        "            node_list.append(int(fo))\n",
        "\n",
        "for UserID, SeriesOfNumberOfFollowings in dfContent_polluters_followings.itertuples():\n",
        "    node_list.append(int(UserID))\n",
        "    for fo in SeriesOfNumberOfFollowings:\n",
        "        # if fo in data_set_users['UserID'].values :\n",
        "            node_list.append(int(fo))\n",
        "\n",
        "node_list = list(set(node_list))\n",
        "print(\"node_list : \",len(node_list))\n",
        "\n",
        "    # dfUsersNode = pd.DataFrame(node_list)\n",
        "    # export_csv = dfUsersNode.to_csv (r'C:/Users/Nill/Desktop/FALL1400/social_honeypot_icwsm_2011/dfUsersNode.csv', index = None, header=True)\n",
        "    # ///////////////////////////////////////////////////////\n",
        "\n"
      ]
    },
    {
      "cell_type": "code",
      "execution_count": null,
      "metadata": {
        "colab": {
          "base_uri": "https://localhost:8080/"
        },
        "id": "h67Ns1W5SB7c",
        "outputId": "4c224553-288a-4d87-b80a-232828a320b8"
      },
      "outputs": [
        {
          "name": "stdout",
          "output_type": "stream",
          "text": [
            "node_list_fake :  30000\n"
          ]
        }
      ],
      "source": [
        "import random\n",
        "node_list_fake = random.sample(node_list, 30000)\n",
        "\n",
        "print(\"node_list_fake : \",len(node_list_fake))\n"
      ]
    },
    {
      "cell_type": "code",
      "execution_count": null,
      "metadata": {
        "colab": {
          "base_uri": "https://localhost:8080/"
        },
        "id": "ilAkWtAevF7C",
        "outputId": "b96f5da9-cb8e-492e-dc5e-53af57a5b00b"
      },
      "outputs": [
        {
          "name": "stdout",
          "output_type": "stream",
          "text": [
            "edge_list :  8950572\n"
          ]
        }
      ],
      "source": [
        "edge_list = []\n",
        "\n",
        "for UserID, SeriesOfNumberOfFollowings in dfLegitimate_users_followings.itertuples():\n",
        "    for fo in SeriesOfNumberOfFollowings:\n",
        "        # if fo in data_set_users['UserID'].values :\n",
        "            edge_list.append((int(UserID), int(fo)))\n",
        "\n",
        "for UserID, SeriesOfNumberOfFollowings in dfContent_polluters_followings.itertuples():\n",
        "    for fo in SeriesOfNumberOfFollowings:\n",
        "        # if fo in data_set_users['UserID'].values :\n",
        "            edge_list.append((int(UserID), int(fo)))\n",
        "\n",
        "print(\"edge_list : \", len(edge_list))"
      ]
    },
    {
      "cell_type": "code",
      "execution_count": null,
      "metadata": {
        "id": "pZ6ZND-Mml85"
      },
      "outputs": [],
      "source": [
        "G = nx.Graph()\n",
        "G.add_nodes_from(node_list)\n",
        "G.add_edges_from(edge_list)"
      ]
    },
    {
      "cell_type": "code",
      "execution_count": null,
      "metadata": {
        "colab": {
          "base_uri": "https://localhost:8080/"
        },
        "id": "nHl_ouBqkiif",
        "outputId": "b6e98145-918f-498e-b99a-8bf6023ba79d"
      },
      "outputs": [
        {
          "name": "stdout",
          "output_type": "stream",
          "text": [
            "The graph has 93247 nodes and 1416359 edges\n"
          ]
        }
      ],
      "source": [
        "print(\"The graph has\", len(G.nodes), \"nodes and\", len(G.edges), \"edges\")"
      ]
    },
    {
      "cell_type": "code",
      "execution_count": null,
      "metadata": {
        "colab": {
          "base_uri": "https://localhost:8080/"
        },
        "id": "SBJm8KXsnhU5",
        "outputId": "f8b291bc-3921-4e9b-cd48-c1a9834ceb84"
      },
      "outputs": [
        {
          "name": "stdout",
          "output_type": "stream",
          "text": [
            "2001 3981\n"
          ]
        }
      ],
      "source": [
        "node_and_degree = G.degree()\n",
        "(largest_hub, degree) = sorted(node_and_degree, key=itemgetter(1))[-1]\n",
        "print(largest_hub,degree)"
      ]
    },
    {
      "cell_type": "code",
      "execution_count": null,
      "metadata": {
        "id": "oAjZKqDdoIDG"
      },
      "outputs": [],
      "source": [
        "# G_new=G.to_undirected()\n",
        "G_new=G\n",
        "partition = community_louvain.best_partition(G_new)"
      ]
    },
    {
      "cell_type": "code",
      "execution_count": null,
      "metadata": {
        "colab": {
          "background_save": true
        },
        "id": "B5WAJIi6p3XU",
        "outputId": "955e4853-9a08-47d4-fd63-21ae7a58262a"
      },
      "outputs": [
        {
          "name": "stderr",
          "output_type": "stream",
          "text": [
            "IOPub data rate exceeded.\n",
            "The notebook server will temporarily stop sending output\n",
            "to the client in order to avoid crashing it.\n",
            "To change this limit, set the config variable\n",
            "`--NotebookApp.iopub_data_rate_limit`.\n",
            "\n",
            "Current values:\n",
            "NotebookApp.iopub_data_rate_limit=1000000.0 (bytes/sec)\n",
            "NotebookApp.rate_limit_window=3.0 (secs)\n",
            "\n"
          ]
        }
      ],
      "source": [
        "dendo = community_louvain.generate_dendrogram(G_new)\n",
        "for level in range(0,len(dendo) - 1):\n",
        "    print(\"partition at level\", level,\n",
        "          \"is\", community_louvain.partition_at_level(dendo, level))"
      ]
    },
    {
      "cell_type": "code",
      "execution_count": null,
      "metadata": {
        "colab": {
          "background_save": true
        },
        "id": "soNvTAyPp9TE",
        "outputId": "98a625a6-d69f-4972-f260-639ee41c1bb5"
      },
      "outputs": [
        {
          "data": {
            "text/plain": [
              "0.7072375595457567"
            ]
          },
          "execution_count": 21,
          "metadata": {},
          "output_type": "execute_result"
        }
      ],
      "source": [
        "community_louvain.modularity(partition, G_new)"
      ]
    },
    {
      "cell_type": "code",
      "execution_count": null,
      "metadata": {
        "colab": {
          "background_save": true
        },
        "id": "JMJhW-UutqvN"
      },
      "outputs": [],
      "source": [
        "dictionary=dict()"
      ]
    },
    {
      "cell_type": "code",
      "execution_count": null,
      "metadata": {
        "colab": {
          "background_save": true
        },
        "id": "DKKephqIp9QL",
        "outputId": "c28b0ed1-7021-48ca-8980-d03609a3f96f"
      },
      "outputs": [
        {
          "name": "stdout",
          "output_type": "stream",
          "text": [
            "Community of  0   :   Real (ID  0 ) - countOfMember :  914  - countOfFakeMember :  354  members: 0.387308533916849\n",
            "Community of  94   :   Real (ID  1 ) - countOfMember :  14870  - countOfFakeMember :  6586  members: 0.44290517821116343\n",
            "Community of  244   :   Real (ID  2 ) - countOfMember :  7551  - countOfFakeMember :  4949  members: 0.6554098794861608\n",
            "Community of  662   :   Real (ID  3 ) - countOfMember :  8546  - countOfFakeMember :  6817  members: 0.7976831266089398\n",
            "Community of  2001   :   Real (ID  4 ) - countOfMember :  6715  - countOfFakeMember :  5910  members: 0.8801191362620998\n",
            "Community of  107365486   :   Fake (ID  5 ) - countOfMember :  2461  - countOfFakeMember :  1586  members: 0.6444534741974807\n",
            "Community of  84371497   :   Fake (ID  6 ) - countOfMember :  4994  - countOfFakeMember :  2691  members: 0.538846615939127\n",
            "Community of  105506414   :   Fake (ID  7 ) - countOfMember :  6207  - countOfFakeMember :  2478  members: 0.39922667955534075\n",
            "Community of  14516920   :   Fake (ID  8 ) - countOfMember :  15731  - countOfFakeMember :  5453  members: 0.3466403915834976\n",
            "Community of  45580345   :   Fake (ID  9 ) - countOfMember :  12185  - countOfFakeMember :  4042  members: 0.3317193270414444\n",
            "Community of  11712392   :   Real (ID  10 ) - countOfMember :  1397  - countOfFakeMember :  441  members: 0.31567644953471724\n",
            "Community of  41419003   :   Fake (ID  11 ) - countOfMember :  34  - countOfFakeMember :  9  members: 0.2647058823529412\n",
            "Community of  15958265   :   Fake (ID  12 ) - countOfMember :  1971  - countOfFakeMember :  641  members: 0.3252156265854896\n",
            "Community of  16413061   :   Fake (ID  13 ) - countOfMember :  9501  - countOfFakeMember :  3104  members: 0.32670245237343437\n",
            "Community of  15770446   :   Fake (ID  14 ) - countOfMember :  170  - countOfFakeMember :  54  members: 0.3176470588235294\n",
            "[2, 3, 4] \n",
            "\n"
          ]
        }
      ],
      "source": [
        "# Keep only communities with a minimum of authors\n",
        "counter=0\n",
        "centers = {}\n",
        "communities = {}\n",
        "fake_communities = []\n",
        "fake_communities_num = 0\n",
        "allNodes = []\n",
        "G_main_com = G_new.copy()\n",
        "min_nb = 2\n",
        "for com in set(partition.values()) :\n",
        "    list_nodes = [nodes for nodes in partition.keys() if partition[nodes] == com]\n",
        "    if len(list_nodes) < min_nb:\n",
        "        G_main_com.remove_nodes_from(list_nodes)\n",
        "    else:\n",
        "        # Get center\n",
        "        H = G_main_com.subgraph(list_nodes)\n",
        "        d_c = nx.degree_centrality(H)\n",
        "        center = max(d_c, key=d_c.get)\n",
        "        allNodes.append(center)\n",
        "        centers[center] = com\n",
        "        communities[com] = center\n",
        "        # Print community\n",
        "        fakeCounter = 0\n",
        "\n",
        "        for userNode in list_nodes:\n",
        "            allNodes.append(userNode)\n",
        "            if userNode in data_Users_polluters['UserID'].values : \n",
        "                fakeCounter = fakeCounter + 1\n",
        "            elif userNode in otherFakeUser :\n",
        "                fakeCounter = fakeCounter + 1\n",
        "            elif userNode in node_list_fake :\n",
        "                fakeCounter = fakeCounter + 1\n",
        "        centerType = \"\"        \n",
        "        if center in data_Users_polluters['UserID'].values : \n",
        "           centerType = \"Fake\"\n",
        "          #  communities[1] = center\n",
        "        elif center in otherFakeUser : \n",
        "           centerType = \"Fake\"\n",
        "          #  communities[1] = center\n",
        "        else :\n",
        "        # center in data_Users_legitimate['UserID'].values : \n",
        "           centerType = \"Real\"\n",
        "          #  communities[0] = center\n",
        "        # else : \n",
        "        #   centerType = \"Unknown\"\n",
        "        if fakeCounter/len(list_nodes) > 0.65 :\n",
        "          fake_communities.append(com)\n",
        "          fake_communities_num = fake_communities_num+1\n",
        "        print('Community of ', center ,'  :  ' , centerType , '(ID ', com, ') - countOfMember : ', len(list_nodes) , ' - countOfFakeMember : ' , fakeCounter , ' members:' , fakeCounter/len(list_nodes))\n",
        "        counter=counter+1\n",
        "        # print(list_nodes, '\\n')\n",
        "        dictionary[f'Community of ', center , '(ID ', com, ') - countOfMember : ', len(list_nodes) , ' - countOfFakeMember : ' , fakeCounter , '  fakeCounter/len(list_nodes)  ' , fakeCounter/len(list_nodes) ,' members:']=np.array(list_nodes)\n",
        "print(fake_communities, '\\n')"
      ]
    },
    {
      "cell_type": "code",
      "execution_count": null,
      "metadata": {
        "colab": {
          "background_save": true
        },
        "id": "vlt6NRLXN7WL"
      },
      "outputs": [],
      "source": [
        "allNodes = set(allNodes)"
      ]
    },
    {
      "cell_type": "code",
      "execution_count": null,
      "metadata": {
        "colab": {
          "background_save": true
        },
        "id": "T4QN7T5dPL2z",
        "outputId": "5b15aa98-df96-4f51-a306-c020593d01d4"
      },
      "outputs": [
        {
          "data": {
            "text/plain": [
              "93247"
            ]
          },
          "execution_count": 25,
          "metadata": {},
          "output_type": "execute_result"
        }
      ],
      "source": [
        "len(allNodes)"
      ]
    },
    {
      "cell_type": "code",
      "execution_count": null,
      "metadata": {
        "id": "tLj5Z1ZvBcDI"
      },
      "outputs": [],
      "source": [
        "subG=G.subgraph(G_main_com)\n",
        "pos=nx.spring_layout(subG)"
      ]
    },
    {
      "cell_type": "code",
      "execution_count": null,
      "metadata": {
        "id": "9e234TYaA6Lj"
      },
      "outputs": [],
      "source": [
        "nx.draw_networkx_nodes(subG,pos,nodelist=fake_communities,node_color='r',node_size=50, label='fake accounts')\n",
        "nx.draw_networkx_nodes(subG,pos,nodelist=G_main_com,node_color='b',node_size=50, label='real accounts')\n",
        "axes=plt.gca()\n",
        "axes.set_ylim([-0.15,0.15])\n",
        "plt.legend()\n",
        "plt.show()"
      ]
    },
    {
      "cell_type": "code",
      "execution_count": null,
      "metadata": {
        "id": "Um3Uq4Cpt8Hq"
      },
      "outputs": [],
      "source": [
        "\n",
        "with open('communityallNotExist.txt', 'w') as f:\n",
        "    print(dictionary, file=f)"
      ]
    },
    {
      "cell_type": "code",
      "execution_count": null,
      "metadata": {
        "id": "2hNfUHatjRgV"
      },
      "outputs": [],
      "source": [
        "nx.draw(fake_communities, pos=nx.spring_layout(fake_communities,k=.12),node_color='c',edge_color='k')"
      ]
    },
    {
      "cell_type": "code",
      "execution_count": null,
      "metadata": {
        "id": "PyV9XnohjJI_"
      },
      "outputs": [],
      "source": [
        "\n",
        "nx.draw(G, pos=nx.spring_layout(G,k=.12),node_color='c',edge_color='k')\n"
      ]
    },
    {
      "cell_type": "markdown",
      "metadata": {
        "id": "k9BCCjkktl-y"
      },
      "source": [
        "Community of fakeusers\n",
        "\n"
      ]
    },
    {
      "cell_type": "code",
      "execution_count": null,
      "metadata": {
        "id": "XbMAl9qgtwyl"
      },
      "outputs": [],
      "source": []
    },
    {
      "cell_type": "code",
      "execution_count": null,
      "metadata": {
        "id": "060BFL9Ftw6a"
      },
      "outputs": [],
      "source": [
        "\n",
        "# # /////////////////////////////////////////////////////\n",
        "\n",
        "# node_list_fakes = []\n",
        "\n",
        "\n",
        "# for UserID, SeriesOfNumberOfFollowings in dfContent_polluters_followings.itertuples():\n",
        "#     node_list_fakes.append(int(UserID))\n",
        "#     for fo in SeriesOfNumberOfFollowings:\n",
        "#         if fo in data_Users_polluters['UserID'].values :\n",
        "#             node_list_fakes.append(int(fo))\n",
        "#         elif fo in otherFakeUser:\n",
        "#             node_list_fakes.append(int(fo))\n",
        "\n",
        "# node_list_fakes = list(set(node_list_fakes))\n",
        "# print(\"node_list : \",len(node_list_fakes))\n",
        "\n",
        "#     # dfUsersNode = pd.DataFrame(node_list)\n",
        "#     # export_csv = dfUsersNode.to_csv (r'C:/Users/Nill/Desktop/FALL1400/social_honeypot_icwsm_2011/dfUsersNode.csv', index = None, header=True)\n",
        "#     # ///////////////////////////////////////////////////////\n",
        "\n"
      ]
    },
    {
      "cell_type": "code",
      "execution_count": null,
      "metadata": {
        "id": "MyFrBro9tw6c"
      },
      "outputs": [],
      "source": [
        "# edge_list_fake = []\n",
        "\n",
        "# for UserID, SeriesOfNumberOfFollowings in dfContent_polluters_followings.itertuples():\n",
        "#     for fo in SeriesOfNumberOfFollowings:\n",
        "#         if fo in data_Users_polluters['UserID'].values :\n",
        "#             edge_list_fake.append((int(UserID), int(fo)))\n",
        "#         elif fo in otherFakeUser:\n",
        "#             edge_list_fake.append((int(UserID), int(fo)))\n",
        "\n",
        "# print(\"edge_list : \", len(edge_list_fake))"
      ]
    },
    {
      "cell_type": "code",
      "execution_count": null,
      "metadata": {
        "id": "DKT8mPl4tw6d"
      },
      "outputs": [],
      "source": [
        "# G_fakes= nx.Graph()\n",
        "# G_fakes.add_nodes_from(node_list_fakes)\n",
        "# G_fakes.add_edges_from(edge_list_fake)"
      ]
    },
    {
      "cell_type": "code",
      "execution_count": null,
      "metadata": {
        "id": "vrFv2z2Dtw6d"
      },
      "outputs": [],
      "source": [
        "# print(\"The graph has\", len(G_fakes.nodes), \"nodes and\", len(G_fakes.edges), \"edges\")"
      ]
    },
    {
      "cell_type": "code",
      "execution_count": null,
      "metadata": {
        "id": "rUqpAtW_vr6I"
      },
      "outputs": [],
      "source": [
        "# node_and_degree_fakes = G_fakes.degree()\n",
        "# (largest_hub_fakes, degree_fakes) = sorted(node_and_degree_fakes, key=itemgetter(1))[-1]\n",
        "# print(largest_hub_fakes,degree_fakes)"
      ]
    },
    {
      "cell_type": "code",
      "execution_count": null,
      "metadata": {
        "id": "NnIlFXGttw6g"
      },
      "outputs": [],
      "source": [
        "# # G_new=G.to_undirected()\n",
        "# G_new_fakes=G_fakes\n",
        "# partition_fakes = community_louvain.best_partition(G_new_fakes)"
      ]
    },
    {
      "cell_type": "code",
      "execution_count": null,
      "metadata": {
        "id": "JmFJh2S3tw6h"
      },
      "outputs": [],
      "source": [
        "# dendo_fakes = community_louvain.generate_dendrogram(G_new_fakes)\n",
        "# for level in range(0,len(dendo_fakes) - 1):\n",
        "#     print(\"partition at level _fakes \" , level,\n",
        "#           \"is\", community_louvain.partition_at_level(dendo_fakes, level))"
      ]
    },
    {
      "cell_type": "code",
      "execution_count": null,
      "metadata": {
        "id": "E_mGyp0qtw6i"
      },
      "outputs": [],
      "source": [
        "# community_louvain.modularity(partition_fakes, G_new_fakes)"
      ]
    },
    {
      "cell_type": "code",
      "execution_count": null,
      "metadata": {
        "id": "gQZoCjyStw6i"
      },
      "outputs": [],
      "source": [
        "# dictionary_fakes=dict()"
      ]
    },
    {
      "cell_type": "code",
      "execution_count": null,
      "metadata": {
        "id": "SI9kucqDtw6j"
      },
      "outputs": [],
      "source": [
        "# # Keep only communities with a minimum of authors\n",
        "# counter_fakes=0\n",
        "# centers_fakes = {}\n",
        "# communities_fakes = {}\n",
        "# fake_communities_fakes = []\n",
        "# fake_communities_num_fakes = 0\n",
        "# allNodes_fakes = []\n",
        "# G_main_com_fakes = G_new_fakes.copy()\n",
        "# min_nb_fakes = 2\n",
        "# for com in set(partition_fakes.values()) :\n",
        "#     list_nodes_fakes = [nodes for nodes in partition_fakes.keys() if partition_fakes[nodes] == com]\n",
        "#     if len(list_nodes_fakes) < min_nb_fakes:\n",
        "#         G_main_com_fakes.remove_nodes_from(list_nodes_fakes)\n",
        "#     else:\n",
        "#         # Get center\n",
        "#         H = G_main_com_fakes.subgraph(list_nodes_fakes)\n",
        "#         d_c = nx.degree_centrality(H)\n",
        "#         center_fakes = max(d_c, key=d_c.get)\n",
        "#         allNodes_fakes.append(center_fakes)\n",
        "#         centers_fakes[center_fakes] = com\n",
        "#         communities_fakes[com] = center_fakes\n",
        "#         # Print community\n",
        "#         fakeCounter_fakes = 0\n",
        "\n",
        "#         for userNode in list_nodes_fakes:\n",
        "#             allNodes_fakes.append(userNode)\n",
        "#             if userNode in data_Users_polluters['UserID'].values : \n",
        "#                 fakeCounter_fakes = fakeCounter_fakes + 1\n",
        "#             elif userNode in otherFakeUser :\n",
        "#                 fakeCounter_fakes = fakeCounter_fakes + 1\n",
        "#         centerType = \"\"        \n",
        "#         if center_fakes in data_Users_polluters['UserID'].values : \n",
        "#            centerType = \"Fake\"\n",
        "#           #  communities[1] = center\n",
        "#         elif center in otherFakeUser : \n",
        "#            centerType = \"Fake\"\n",
        "#           #  communities[1] = center\n",
        "#         else :\n",
        "#         # center in data_Users_legitimate['UserID'].values : \n",
        "#            centerType = \"Real\"\n",
        "#           #  communities[0] = center\n",
        "#         # else : \n",
        "#         #   centerType = \"Unknown\"\n",
        "#         if fakeCounter_fakes/len(list_nodes_fakes) > 0.65 :\n",
        "#           fake_communities_fakes.append(com)\n",
        "#           fake_communities_num_fakes = fake_communities_num_fakes+1\n",
        "#         print('Community of ', center_fakes ,'  :  ' , centerType , '(ID ', com, ') - countOfMember : ', len(list_nodes_fakes) , ' - countOfFakeMember : ' , fakeCounter_fakes , ' members:' , fakeCounter_fakes/len(list_nodes_fakes))\n",
        "#         counter=counter+1\n",
        "#         # print(list_nodes, '\\n')\n",
        "#         dictionary_fakes[f'Community of ', center_fakes , '(ID ', com, ') - countOfMember : ', len(list_nodes_fakes) , ' - countOfFakeMember : ' , fakeCounter_fakes , '  fakeCounter_fakes/len(list_nodes_fakes)  ' , fakeCounter_fakes/len(list_nodes_fakes)  ,  ' members:']=np.array(list_nodes_fakes)\n",
        "# print(fake_communities_fakes, '\\n')"
      ]
    },
    {
      "cell_type": "code",
      "execution_count": null,
      "metadata": {
        "id": "xxTlUOdZPeyW"
      },
      "outputs": [],
      "source": [
        "# # \n",
        "# with open('communityallFakes.txt', 'w') as f:\n",
        "#     print(dictionary_fakes, file=f)"
      ]
    },
    {
      "cell_type": "markdown",
      "metadata": {
        "id": "bu_nx3unBfNi"
      },
      "source": [
        "## classification\n"
      ]
    },
    {
      "cell_type": "code",
      "execution_count": null,
      "metadata": {
        "id": "5dBWyPilDb-B"
      },
      "outputs": [],
      "source": [
        "# import tweepy as tweepy"
      ]
    },
    {
      "cell_type": "code",
      "execution_count": null,
      "metadata": {
        "id": "1YtMSaG2BeXa"
      },
      "outputs": [],
      "source": [
        "# # consumer_key = 'Cq1sycJH2dda1jZCvMlqiBT7b'\n",
        "# # consumer_secret = 'NAmkgtvnezW42U80ndOqeD8bfIZnM8KF8k9g9wl73SNa9mjfis'\n",
        "# # access_token = '1544279124482703364-Taf0ZjnGuRW4HCfAidh4jhRK4xZ3RI'\n",
        "# # access_token_secret = 'xtst9BPdI4AGs1itwmmXSII5J8V25D2vyRj7lKYdnqHKJ'\n",
        "\n",
        "# consumer_key = 'BJZXO2O7qffWEWiBzztaI0pmz'\n",
        "# consumer_secret = '1V78UxJL3ahxfeyRxchZX9OD5Se35NP0FoRVk2Kt1Q6arV1s9t'\n",
        "# access_token = '1421415547607126016-Gt5QxcyBoPTQr1rKRRogxhgO46JdrW'\n",
        "# access_token_secret = 'afPcI7OlTv9Vbm55ecSijEWhRIDbhPdfOnz2lnGF8qIal'\n",
        "\n",
        "# auth = tweepy.OAuthHandler(consumer_key, consumer_secret)\n",
        "# auth.set_access_token(access_token, access_token_secret)\n",
        "\n",
        "# api = tweepy.API(auth , wait_on_rate_limit=True)\n"
      ]
    },
    {
      "cell_type": "code",
      "execution_count": null,
      "metadata": {
        "id": "4Utves7LVjhK"
      },
      "outputs": [],
      "source": [
        "# with open('users_all_Get.txt', 'w') as f:\n",
        "#     for line in allNodes:\n",
        "#         f.write(f\"{line}\\n\")"
      ]
    },
    {
      "cell_type": "code",
      "execution_count": null,
      "metadata": {
        "id": "QUK-z9694DOy"
      },
      "outputs": [],
      "source": []
    },
    {
      "cell_type": "code",
      "execution_count": null,
      "metadata": {
        "id": "j_yN9NLjcomw"
      },
      "outputs": [],
      "source": [
        "# def func(string):\n",
        "#    return pd.Series(string.split(',')).astype(int)\n",
        "  "
      ]
    },
    {
      "cell_type": "code",
      "execution_count": null,
      "metadata": {
        "id": "Bbq5Gl33bbG_"
      },
      "outputs": [],
      "source": [
        "\n",
        "# def folowersSTD(user) :\n",
        "#     freiend_list = ''\n",
        "#     friends = api.friends(id=user)[:10]\n",
        "#     # print(len(friends))\n",
        "#     for friend in friends:\n",
        "#         freiend_list = freiend_list+str(friend.id)+','\n",
        "#     # print(func(freiend_list[:-1]))\n",
        "#     vari = func(freiend_list[:-1])\n",
        "#     return vari.std()"
      ]
    },
    {
      "cell_type": "code",
      "execution_count": null,
      "metadata": {
        "id": "kIpvPn3OToyx"
      },
      "outputs": [],
      "source": [
        "# from datetime import datetime\n",
        "# now = datetime.now()\n",
        " \n",
        "# print(\"now =\", now)\n",
        "# dt_string = now.strftime(\"%d/%m/%Y %H:%M:%S\")\n",
        "# print(\"date and time =\", dt_string)\t\n"
      ]
    },
    {
      "cell_type": "code",
      "execution_count": null,
      "metadata": {
        "id": "xxRYrTnydc0-"
      },
      "outputs": [],
      "source": [
        "# def getTweets(user) :\n",
        "#     tweets = api.user_timeline(id=user, \n",
        "#                            # 200 is the maximum allowed count\n",
        "#                            count=10,\n",
        "#                            include_rts = False,\n",
        "#                            # Necessary to keep full_text \n",
        "#                            # otherwise only the first 140 words are extracted\n",
        "#                            tweet_mode = 'extended'\n",
        "#                            )\n",
        "#     return tweets"
      ]
    },
    {
      "cell_type": "code",
      "execution_count": null,
      "metadata": {
        "id": "zcplydHaI7u8"
      },
      "outputs": [],
      "source": [
        "# import time"
      ]
    },
    {
      "cell_type": "code",
      "execution_count": null,
      "metadata": {
        "id": "QG8zZC9wBX1k"
      },
      "outputs": [],
      "source": [
        "# f_account10000 = open('/content/drive/MyDrive/fake_users_account10000.txt', 'w') "
      ]
    },
    {
      "cell_type": "code",
      "execution_count": null,
      "metadata": {
        "id": "yGq-dZwKmULz"
      },
      "outputs": [],
      "source": [
        "# from itertools import islice"
      ]
    },
    {
      "cell_type": "code",
      "execution_count": null,
      "metadata": {
        "id": "BUMKaEr0RCSx"
      },
      "outputs": [],
      "source": [
        "# notExistUser10000 = []\n",
        "# counter = 0\n",
        "# iterator = islice(allNodes, 10000)\n",
        "# # for seed_id , SeriesOfNumberOfFollowings in dfContent_polluters_followings[:10].itertuples():\n",
        "# #     print(\"***************** seed_id \", seed_id)\n",
        "# for userId in iterator :\n",
        "#   counter = counter + 1\n",
        "#   try:\n",
        "#       friend=api.get_user(userId)\n",
        "#       # f_account.write(str(friend.id))\n",
        "#       # f_account.write('\\t')\n",
        "#       # f_account.write(str(friend.created_at))\n",
        "#       # f_account.write('\\t')\n",
        "#       # f_account.write(str(now))\n",
        "#       # f_account.write('\\t')\n",
        "#       # f_account.write(str(friend.friends_count))\n",
        "#       # f_account.write('\\t')\n",
        "#       # f_account.write(str(friend.followers_count))\n",
        "#       # f_account.write('\\t')\n",
        "#       # f_account.write(str(friend.statuses_count))\n",
        "#       # f_account.write('\\t')\n",
        "#       # f_account.write(str(folowersSTD(friend.id)))\n",
        "#       # f_account.write('\\t')\n",
        "#   except Exception as e: \n",
        "#         print(e , \"   \" , counter ) \n",
        "#         notExistUser10000.append(userId)\n",
        "#         f_account10000.write(str(userId))\n",
        "#         f_account10000.write('\\n')\n",
        "#         pass"
      ]
    },
    {
      "cell_type": "code",
      "execution_count": null,
      "metadata": {
        "id": "GVemxAu5BbqM"
      },
      "outputs": [],
      "source": [
        "# f_account10000.close()"
      ]
    },
    {
      "cell_type": "code",
      "execution_count": null,
      "metadata": {
        "id": "Cy0UNpYW4nbb"
      },
      "outputs": [],
      "source": []
    },
    {
      "cell_type": "code",
      "execution_count": null,
      "metadata": {
        "id": "PXDbhQ8O4n2e"
      },
      "outputs": [],
      "source": [
        "# f_account20000 = open('/content/drive/MyDrive/fake_users_account20000.txt', 'w') "
      ]
    },
    {
      "cell_type": "code",
      "execution_count": null,
      "metadata": {
        "id": "9ArI9V0T4n2f"
      },
      "outputs": [],
      "source": [
        "# notExistUser20000 = []\n",
        "# counter = 0\n",
        "# iterator = islice(allNodes, 10000,20000)\n",
        "# # for seed_id , SeriesOfNumberOfFollowings in dfContent_polluters_followings[:10].itertuples():\n",
        "# #     print(\"***************** seed_id \", seed_id)\n",
        "# for userId in iterator :\n",
        "#   counter = counter + 1\n",
        "#   try:\n",
        "#       friend=api.get_user(userId)\n",
        "#       # f_account.write(str(friend.id))\n",
        "#       # f_account.write('\\t')\n",
        "#       # f_account.write(str(friend.created_at))\n",
        "#       # f_account.write('\\t')\n",
        "#       # f_account.write(str(now))\n",
        "#       # f_account.write('\\t')\n",
        "#       # f_account.write(str(friend.friends_count))\n",
        "#       # f_account.write('\\t')\n",
        "#       # f_account.write(str(friend.followers_count))\n",
        "#       # f_account.write('\\t')\n",
        "#       # f_account.write(str(friend.statuses_count))\n",
        "#       # f_account.write('\\t')\n",
        "#       # f_account.write(str(folowersSTD(friend.id)))\n",
        "#       # f_account.write('\\t')\n",
        "#   except Exception as e: \n",
        "#         print(e , \"   \" , counter ) \n",
        "#         notExistUser20000.append(userId)\n",
        "#         f_account20000.write(str(userId))\n",
        "#         f_account20000.write('\\n')\n",
        "#         pass"
      ]
    },
    {
      "cell_type": "code",
      "execution_count": null,
      "metadata": {
        "id": "0u0O-syH4n2h"
      },
      "outputs": [],
      "source": [
        "# f_account20000.close()"
      ]
    },
    {
      "cell_type": "markdown",
      "metadata": {
        "id": "KZOJIBMBiAHk"
      },
      "source": [
        "# classification done"
      ]
    },
    {
      "cell_type": "markdown",
      "metadata": {
        "id": "Lg1oTC6YiHVk"
      },
      "source": [
        "# plot"
      ]
    },
    {
      "cell_type": "code",
      "execution_count": null,
      "metadata": {
        "id": "Ofx7JsAytmys"
      },
      "outputs": [],
      "source": [
        "\n",
        "# with open('communityallNotExist.txt', 'w') as f:\n",
        "#     print(dictionary, file=f)\n",
        "    "
      ]
    },
    {
      "cell_type": "code",
      "execution_count": null,
      "metadata": {
        "id": "2Q48HwgHZ98n"
      },
      "outputs": [],
      "source": [
        "print(counter)"
      ]
    },
    {
      "cell_type": "code",
      "execution_count": null,
      "metadata": {
        "id": "HoJ77jV8U0pT"
      },
      "outputs": [],
      "source": [
        "stop = timeit.default_timer()\n",
        "print('Time: ', stop - start)  "
      ]
    },
    {
      "cell_type": "code",
      "execution_count": null,
      "metadata": {
        "id": "lRXydLiOZ98n"
      },
      "outputs": [],
      "source": [
        "import seaborn as sns"
      ]
    },
    {
      "cell_type": "code",
      "execution_count": null,
      "metadata": {
        "id": "98fhJdZ77lIo"
      },
      "outputs": [],
      "source": [
        "# # Display graph\n",
        "# plt.figure(figsize=(20, 10))\n",
        "# node_size = 50\n",
        "# count = 0\n",
        "# pos = nx.spring_layout(G_main_com)\n",
        "# colors = dict(zip(communities.keys(), sns.color_palette('hls', len(communities.keys()))))\n",
        "\n",
        "# for com in communities.keys():\n",
        "#     count = count  +1\n",
        "#     list_nodes = [nodes for nodes in partition.keys() if partition[nodes] == com and nodes not in communities.values()]\n",
        "#     nx.draw_networkx_nodes(G_main_com, pos, list_nodes, node_size = node_size, node_color = colors[com])\n",
        "#     nx.draw_networkx_nodes(G_main_com, pos, list([communities[com]]), node_size = node_size*5, node_color = colors[com])\n",
        "# nx.draw_networkx_edges(G_main_com, pos, alpha=0.5)\n",
        "# # labels = {k: str(v) + ': ' + str(k) for k,v in centers.items()}\n",
        "# labels = {k: str(v) for k,v in centers.items()}\n",
        "# nx.draw_networkx_labels(G_main_com, pos, labels)\n",
        "# plt.axis('off')\n",
        "# plt.show()"
      ]
    },
    {
      "cell_type": "code",
      "execution_count": null,
      "metadata": {
        "id": "X4aXlmj9LdMI"
      },
      "outputs": [],
      "source": [
        "# Display graph\n",
        "plt.figure(figsize=(100, 40))\n",
        "node_size = 50\n",
        "count = 0\n",
        "pos = nx.spring_layout(G_main_com)\n",
        "colors = dict(zip(communities.keys(), sns.color_palette('hls', len(communities.keys()))))\n",
        "\n",
        "for com in communities.keys():\n",
        "    count = count  +1\n",
        "    list_nodes = [nodes for nodes in partition.keys() if partition[nodes] == com and nodes not in communities.values()]\n",
        "    nx.draw_networkx_nodes(G_main_com, pos, list_nodes, node_size = node_size, node_color = colors[com])\n",
        "    nx.draw_networkx_nodes(G_main_com, pos, list([communities[com]]), node_size = node_size*5, node_color = colors[com])\n",
        "nx.draw_networkx_edges(G_main_com, pos, alpha=0.5)\n",
        "# labels = {k: str(v) + ': ' + str(k) for k,v in centers.items()}\n",
        "labels = {k: str(v) for k,v in centers.items()}\n",
        "nx.draw_networkx_labels(G_main_com, pos, labels)\n",
        "plt.axis('off')\n",
        "plt.show()"
      ]
    },
    {
      "cell_type": "code",
      "execution_count": null,
      "metadata": {
        "id": "KOdwrtS5Z98o"
      },
      "outputs": [],
      "source": [
        "# # Display graph\n",
        "# plt.figure(figsize=(200, 80),dpi=100)\n",
        "# node_size = 50\n",
        "# count = 0\n",
        "# pos = nx.spring_layout(G_main_com)\n",
        "# colors = dict(zip(communities.keys(), sns.color_palette('hls', len(communities.keys()))))\n",
        "\n",
        "# for com in communities.keys():\n",
        "#     count = count  +1\n",
        "#     list_nodes = [nodes for nodes in partition.keys() if partition[nodes] == com and nodes not in communities.values()]\n",
        "#     nx.draw_networkx_nodes(G_main_com, pos, list_nodes, node_size = node_size, node_color = colors[com])\n",
        "#     nx.draw_networkx_nodes(G_main_com, pos, list([communities[com]]), node_size = node_size*5, node_color = colors[com])\n",
        "# nx.draw_networkx_edges(G_main_com, pos, alpha=0.5)\n",
        "# # labels = {k: str(v) + ': ' + str(k) for k,v in centers.items()}\n",
        "# labels = {k: str(v) for k,v in centers.items()}\n",
        "# nx.draw_networkx_labels(G_main_com, pos, labels)\n",
        "# plt.axis('off')\n",
        "# plt.show()"
      ]
    },
    {
      "cell_type": "code",
      "execution_count": null,
      "metadata": {
        "id": "Dgi4Qvjv6K0x"
      },
      "outputs": [],
      "source": [
        "# # Display graph allnotexist\n",
        "# plt.figure(figsize=(40, 20))\n",
        "# node_size = 50\n",
        "# count = 0\n",
        "# pos = nx.spring_layout(G_main_com)\n",
        "# colors = dict(zip(communities.keys(), sns.color_palette('hls', len(communities.keys()))))\n",
        "\n",
        "# for com in communities.keys():\n",
        "#     count = count  +1\n",
        "#     list_nodes = [nodes for nodes in partition.keys() if partition[nodes] == com and nodes not in communities.values()]\n",
        "#     nx.draw_networkx_nodes(G_main_com, pos, list_nodes, node_size = node_size, node_color = colors[com])\n",
        "#     nx.draw_networkx_nodes(G_main_com, pos, list([communities[com]]), node_size = node_size*5, node_color = colors[com])\n",
        "# nx.draw_networkx_edges(G_main_com, pos, alpha=0.5)\n",
        "# # labels = {k: str(v) + ': ' + str(k) for k,v in centers.items()}\n",
        "# labels = {k: str(v) for k,v in centers.items()}\n",
        "# nx.draw_networkx_labels(G_main_com, pos, labels)\n",
        "# plt.axis('off')\n",
        "# plt.show()"
      ]
    },
    {
      "cell_type": "code",
      "execution_count": null,
      "metadata": {
        "id": "6CuMIGlQNikQ"
      },
      "outputs": [],
      "source": [
        "# # Display graph all fakes\n",
        "# plt.figure(figsize=(10, 5))\n",
        "# node_size = 50\n",
        "# count = 0\n",
        "# pos = nx.spring_layout(G_main_com_fakes)\n",
        "# colors = dict(zip(communities_fakes.keys(), sns.color_palette('hls', len(communities_fakes.keys()))))\n",
        "\n",
        "# for com in communities_fakes.keys():\n",
        "#     count = count  +1\n",
        "#     list_nodes = [nodes for nodes in partition_fakes.keys() if partition_fakes[nodes] == com and nodes not in communities_fakes.values()]\n",
        "#     nx.draw_networkx_nodes(G_main_com_fakes, pos, list_nodes, node_size = node_size, node_color = colors[com])\n",
        "#     nx.draw_networkx_nodes(G_main_com_fakes, pos, list([communities_fakes[com]]), node_size = node_size*5, node_color = colors[com])\n",
        "# nx.draw_networkx_edges(G_main_com_fakes, pos, alpha=0.5)\n",
        "# # labels = {k: str(v) + ': ' + str(k) for k,v in centers.items()}\n",
        "# labels = {k: str(v) for k,v in centers_fakes.items()}\n",
        "# nx.draw_networkx_labels(G_main_com_fakes, pos, labels)\n",
        "# plt.axis('off')\n",
        "# plt.show()"
      ]
    },
    {
      "cell_type": "code",
      "execution_count": null,
      "metadata": {
        "id": "9x7BTUsDTD1j"
      },
      "outputs": [],
      "source": [
        "# # Display graph\n",
        "# plt.figure(figsize=(50, 40))\n",
        "# node_size = 50\n",
        "# count = 0\n",
        "# pos = nx.spring_layout(G_main_com)\n",
        "# colors = dict(zip(communities.keys(), sns.color_palette('hls', len(communities.keys()))))\n",
        "\n",
        "\n",
        "# labels = {}    \n",
        "# for node in G_main_com.nodes():\n",
        "#     if node in data_Users_polluters :\n",
        "#         #set the node name as the key and the label as its value \n",
        "#         labels[node] = \"Fake\"\n",
        "\n",
        "#     else :\n",
        "#         labels[node] = \"Real\"\n",
        "# #set the argument 'with labels' to False so you have unlabeled graph\n",
        "\n",
        "# for com in communities.keys():\n",
        "#     count = count  +1\n",
        "#     list_nodes = [nodes for nodes in partition.keys() if partition[nodes] == com and nodes not in communities.values()]\n",
        "#     nx.draw_networkx_nodes(G_main_com, pos, list_nodes, node_size = node_size, node_color =colors[com])\n",
        "#     nx.draw_networkx_nodes(G_main_com, pos, list([communities[com]]), node_size = node_size*5, node_color = colors[com])\n",
        "# nx.draw_networkx_edges(G_main_com, pos, alpha=0.5)\n",
        "# # labels = {k: str(v) + ': ' + str(k) for k,v in centers.items()}\n",
        "# nx.draw_networkx_labels(G_main_com, pos, labels)\n",
        "# plt.axis('off')\n",
        "# plt.show()"
      ]
    },
    {
      "cell_type": "code",
      "execution_count": null,
      "metadata": {
        "id": "0vxXgYovkiXn"
      },
      "outputs": [],
      "source": [
        "stop = timeit.default_timer()\n",
        "print('Time: ', stop - start)  "
      ]
    }
  ],
  "metadata": {
    "colab": {
      "collapsed_sections": [
        "bu_nx3unBfNi",
        "KZOJIBMBiAHk"
      ],
      "provenance": []
    },
    "kernelspec": {
      "display_name": "Python 3",
      "name": "python3"
    },
    "language_info": {
      "name": "python"
    }
  },
  "nbformat": 4,
  "nbformat_minor": 0
}