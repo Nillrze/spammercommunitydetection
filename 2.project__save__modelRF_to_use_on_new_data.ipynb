{
  "cells": [
    {
      "cell_type": "markdown",
      "metadata": {
        "id": "I31dxA1kuLIf"
      },
      "source": [
        "## Download HoneyPot_dataSet"
      ]
    },
    {
      "cell_type": "code",
      "execution_count": null,
      "metadata": {
        "id": "U6_NFdsRHj-R",
        "colab": {
          "base_uri": "https://localhost:8080/"
        },
        "outputId": "7d843be3-e6f8-4736-8e3e-da0b91708d8a"
      },
      "outputs": [
        {
          "output_type": "stream",
          "name": "stdout",
          "text": [
            "--2022-09-16 16:03:16--  http://infolab.tamu.edu/data/social_honeypot_icwsm_2011.zip\n",
            "Resolving infolab.tamu.edu (infolab.tamu.edu)... 45.55.217.29\n",
            "Connecting to infolab.tamu.edu (infolab.tamu.edu)|45.55.217.29|:80... connected.\n",
            "HTTP request sent, awaiting response... 301 Moved Permanently\n",
            "Location: https://infolab.tamu.edu/data/social_honeypot_icwsm_2011.zip [following]\n",
            "--2022-09-16 16:03:17--  https://infolab.tamu.edu/data/social_honeypot_icwsm_2011.zip\n",
            "Connecting to infolab.tamu.edu (infolab.tamu.edu)|45.55.217.29|:443... connected.\n",
            "HTTP request sent, awaiting response... 200 OK\n",
            "Length: 263659672 (251M) [application/zip]\n",
            "Saving to: ‘social_honeypot_icwsm_2011.zip’\n",
            "\n",
            "social_honeypot_icw 100%[===================>] 251.45M  93.1MB/s    in 2.7s    \n",
            "\n",
            "2022-09-16 16:03:19 (93.1 MB/s) - ‘social_honeypot_icwsm_2011.zip’ saved [263659672/263659672]\n",
            "\n"
          ]
        }
      ],
      "source": [
        "!wget http://infolab.tamu.edu/data/social_honeypot_icwsm_2011.zip"
      ]
    },
    {
      "cell_type": "code",
      "execution_count": null,
      "metadata": {
        "id": "uocgtaPCIArO",
        "colab": {
          "base_uri": "https://localhost:8080/"
        },
        "outputId": "65708b89-d17a-40cb-fe2c-740ebea3e4b4"
      },
      "outputs": [
        {
          "output_type": "stream",
          "name": "stdout",
          "text": [
            "Archive:  social_honeypot_icwsm_2011.zip\n",
            "   creating: social_honeypot_icwsm_2011/\n",
            "  inflating: social_honeypot_icwsm_2011/content_polluters.txt  \n",
            "   creating: __MACOSX/\n",
            "   creating: __MACOSX/social_honeypot_icwsm_2011/\n",
            "  inflating: __MACOSX/social_honeypot_icwsm_2011/._content_polluters.txt  \n",
            "  inflating: social_honeypot_icwsm_2011/content_polluters_followings.txt  \n",
            "  inflating: __MACOSX/social_honeypot_icwsm_2011/._content_polluters_followings.txt  \n",
            "  inflating: social_honeypot_icwsm_2011/content_polluters_tweets.txt  \n",
            "  inflating: __MACOSX/social_honeypot_icwsm_2011/._content_polluters_tweets.txt  \n",
            "  inflating: social_honeypot_icwsm_2011/legitimate_users.txt  \n",
            "  inflating: __MACOSX/social_honeypot_icwsm_2011/._legitimate_users.txt  \n",
            "  inflating: social_honeypot_icwsm_2011/legitimate_users_followings.txt  \n",
            "  inflating: __MACOSX/social_honeypot_icwsm_2011/._legitimate_users_followings.txt  \n",
            "  inflating: social_honeypot_icwsm_2011/legitimate_users_tweets.txt  \n",
            "  inflating: __MACOSX/social_honeypot_icwsm_2011/._legitimate_users_tweets.txt  \n",
            "  inflating: social_honeypot_icwsm_2011/social_honeypot_icwsm_2011.pdf  \n",
            "  inflating: __MACOSX/social_honeypot_icwsm_2011/._social_honeypot_icwsm_2011.pdf  \n",
            "  inflating: __MACOSX/._social_honeypot_icwsm_2011  \n"
          ]
        }
      ],
      "source": [
        "!unzip social_honeypot_icwsm_2011.zip"
      ]
    },
    {
      "cell_type": "code",
      "execution_count": null,
      "metadata": {
        "colab": {
          "base_uri": "https://localhost:8080/"
        },
        "id": "NaoK_feDImou",
        "outputId": "0e13c211-9633-41c9-ef5e-3a6a5c98fbf7"
      },
      "outputs": [
        {
          "output_type": "stream",
          "name": "stdout",
          "text": [
            "Looking in indexes: https://pypi.org/simple, https://us-python.pkg.dev/colab-wheels/public/simple/\n",
            "Requirement already satisfied: scikit-plot in /usr/local/lib/python3.7/dist-packages (0.3.7)\n",
            "Requirement already satisfied: scikit-learn>=0.18 in /usr/local/lib/python3.7/dist-packages (from scikit-plot) (1.0.2)\n",
            "Requirement already satisfied: joblib>=0.10 in /usr/local/lib/python3.7/dist-packages (from scikit-plot) (1.1.0)\n",
            "Requirement already satisfied: scipy>=0.9 in /usr/local/lib/python3.7/dist-packages (from scikit-plot) (1.7.3)\n",
            "Requirement already satisfied: matplotlib>=1.4.0 in /usr/local/lib/python3.7/dist-packages (from scikit-plot) (3.2.2)\n",
            "Requirement already satisfied: pyparsing!=2.0.4,!=2.1.2,!=2.1.6,>=2.0.1 in /usr/local/lib/python3.7/dist-packages (from matplotlib>=1.4.0->scikit-plot) (3.0.9)\n",
            "Requirement already satisfied: cycler>=0.10 in /usr/local/lib/python3.7/dist-packages (from matplotlib>=1.4.0->scikit-plot) (0.11.0)\n",
            "Requirement already satisfied: python-dateutil>=2.1 in /usr/local/lib/python3.7/dist-packages (from matplotlib>=1.4.0->scikit-plot) (2.8.2)\n",
            "Requirement already satisfied: kiwisolver>=1.0.1 in /usr/local/lib/python3.7/dist-packages (from matplotlib>=1.4.0->scikit-plot) (1.4.4)\n",
            "Requirement already satisfied: numpy>=1.11 in /usr/local/lib/python3.7/dist-packages (from matplotlib>=1.4.0->scikit-plot) (1.21.6)\n",
            "Requirement already satisfied: typing-extensions in /usr/local/lib/python3.7/dist-packages (from kiwisolver>=1.0.1->matplotlib>=1.4.0->scikit-plot) (4.1.1)\n",
            "Requirement already satisfied: six>=1.5 in /usr/local/lib/python3.7/dist-packages (from python-dateutil>=2.1->matplotlib>=1.4.0->scikit-plot) (1.15.0)\n",
            "Requirement already satisfied: threadpoolctl>=2.0.0 in /usr/local/lib/python3.7/dist-packages (from scikit-learn>=0.18->scikit-plot) (3.1.0)\n"
          ]
        }
      ],
      "source": [
        "!pip install scikit-plot"
      ]
    },
    {
      "cell_type": "code",
      "execution_count": null,
      "metadata": {
        "id": "AQB_WuGyICod"
      },
      "outputs": [],
      "source": [
        "import pandas as pd\n",
        "import numpy as np\n",
        "import re, string\n",
        "\n",
        "from scipy.stats import zscore\n",
        "from sklearn.tree import export_graphviz\n",
        "from sklearn.tree import DecisionTreeClassifier\n",
        "from sklearn.ensemble import RandomForestClassifier\n",
        "from sklearn.naive_bayes import GaussianNB\n",
        "from sklearn.svm import SVC\n",
        "from sklearn.model_selection import train_test_split\n",
        "from sklearn import metrics\n",
        "from sklearn.metrics import precision_score\n",
        "from sklearn.metrics import recall_score\n",
        "from sklearn.metrics import f1_score\n",
        "from sklearn.metrics import roc_auc_score\n",
        "from sklearn.metrics import roc_curve\n",
        "import scikitplot as skplt\n",
        "import matplotlib.pyplot as plt"
      ]
    },
    {
      "cell_type": "code",
      "source": [
        "import timeit\n",
        "start = timeit.default_timer()"
      ],
      "metadata": {
        "id": "iSrEb2cWuTB5"
      },
      "execution_count": null,
      "outputs": []
    },
    {
      "cell_type": "code",
      "execution_count": null,
      "metadata": {
        "id": "x9Yp-aVBIFFX"
      },
      "outputs": [],
      "source": [
        "\n",
        "def func(string):\n",
        "   return pd.Series(string.split(',')).astype(int)\n",
        "  \n",
        "  \n",
        "dfContent_polluters = pd.read_csv('social_honeypot_icwsm_2011/content_polluters.txt',sep='\\t', names=\n",
        "                 [\"UserID\",\"CreatedAt\",\"CollectedAt\",\"NumberOfFollowings\",\"NumberOfFollowers\",\n",
        "                  \"NumberOfTweets\",\"LengthOfScreenName\",\"LengthOfDescriptionInUserProfile\"],\n",
        "                parse_dates=[\"CreatedAt\",\"CollectedAt\"],index_col=0)\n",
        "\n",
        "dfContent_polluters_followings = pd.read_csv('social_honeypot_icwsm_2011/content_polluters_followings.txt',sep='\\t', names=\n",
        "                 [\"UserID\",\"SeriesOfNumberOfFollowings\"],converters={\"SeriesOfNumberOfFollowings\":func},index_col=0)\n",
        "\n",
        "dfContent_polluters_tweets = pd.read_csv('social_honeypot_icwsm_2011/content_polluters_tweets.txt',sep='\\t', names=\n",
        "                 [\"UserID\",\"TweetID\",\"Tweet\",\"CreatedAt\"], parse_dates=[\"CreatedAt\"],index_col=0)\n",
        "\n",
        "dfLegitimate_users = pd.read_csv('social_honeypot_icwsm_2011/legitimate_users.txt',sep='\\t', names=\n",
        "                 [\"UserID\",\"CreatedAt\",\"CollectedAt\",\"NumberOfFollowings\",\"NumberOfFollowers\",\n",
        "                  \"NumberOfTweets\",\"LengthOfScreenName\",\"LengthOfDescriptionInUserProfile\"],\n",
        "                parse_dates=[\"CreatedAt\",\"CollectedAt\"],index_col=0)\n",
        "\n",
        "dfLegitimate_users_followings = pd.read_csv('social_honeypot_icwsm_2011/legitimate_users_followings.txt',sep='\\t', names=\n",
        "                 [\"UserID\",\"SeriesOfNumberOfFollowings\"],converters={\"SeriesOfNumberOfFollowings\":func},index_col=0)\n",
        "\n",
        "\n",
        "dfLegitimate_users_tweets = pd.read_csv('social_honeypot_icwsm_2011/legitimate_users_tweets.txt',sep='\\t', names=\n",
        "                 [\"UserID\",\"TweetID\",\"Tweet\",\"CreatedAt\"], parse_dates=[\"CreatedAt\"],index_col=0)"
      ]
    },
    {
      "cell_type": "code",
      "execution_count": null,
      "metadata": {
        "colab": {
          "base_uri": "https://localhost:8080/",
          "height": 455
        },
        "id": "BD0t8QvTpP6f",
        "outputId": "9141d24c-db94-4f7d-df9f-e655beca0023"
      },
      "outputs": [
        {
          "output_type": "execute_result",
          "data": {
            "text/plain": [
              "             TweetID                                              Tweet  \\\n",
              "UserID                                                                    \n",
              "614       5912305459  … at house party in Daybreak. Not as weird as ...   \n",
              "614       5908467165  Taxiing  — at SLC Salt Lake City International...   \n",
              "614       5904901963  Almost home! — at PDX Portland International  ...   \n",
              "614       5900351610           Lunch!  — at Ten01 http://gowal.la/s/Awa   \n",
              "614       5900312627     Mm … books — at @Powells http://gowal.la/s/6fe   \n",
              "...              ...                                                ...   \n",
              "93390990  6168916131                         meet me on ELIMINATE pro!!   \n",
              "93402679  6170059145                                         my twitter   \n",
              "93419256  6171947104                            exploring this thing...   \n",
              "93426370  6172856187  learning the rap ice ice baby LOL, not very gd...   \n",
              "93442002  6174743151                             Clipse, B.o.B и J.Cole   \n",
              "\n",
              "                   CreatedAt  \n",
              "UserID                        \n",
              "614      2009-11-20 23:52:52  \n",
              "614      2009-11-20 20:42:48  \n",
              "614      2009-11-20 18:11:01  \n",
              "614      2009-11-20 15:04:42  \n",
              "614      2009-11-20 15:03:06  \n",
              "...                      ...  \n",
              "93390990 2009-11-29 06:44:03  \n",
              "93402679 2009-11-29 07:52:22  \n",
              "93419256 2009-11-29 09:25:53  \n",
              "93426370 2009-11-29 10:08:09  \n",
              "93442002 2009-11-29 11:33:06  \n",
              "\n",
              "[3246377 rows x 3 columns]"
            ],
            "text/html": [
              "\n",
              "  <div id=\"df-522669d3-0bc1-4001-83fa-81b61c990fa3\">\n",
              "    <div class=\"colab-df-container\">\n",
              "      <div>\n",
              "<style scoped>\n",
              "    .dataframe tbody tr th:only-of-type {\n",
              "        vertical-align: middle;\n",
              "    }\n",
              "\n",
              "    .dataframe tbody tr th {\n",
              "        vertical-align: top;\n",
              "    }\n",
              "\n",
              "    .dataframe thead th {\n",
              "        text-align: right;\n",
              "    }\n",
              "</style>\n",
              "<table border=\"1\" class=\"dataframe\">\n",
              "  <thead>\n",
              "    <tr style=\"text-align: right;\">\n",
              "      <th></th>\n",
              "      <th>TweetID</th>\n",
              "      <th>Tweet</th>\n",
              "      <th>CreatedAt</th>\n",
              "    </tr>\n",
              "    <tr>\n",
              "      <th>UserID</th>\n",
              "      <th></th>\n",
              "      <th></th>\n",
              "      <th></th>\n",
              "    </tr>\n",
              "  </thead>\n",
              "  <tbody>\n",
              "    <tr>\n",
              "      <th>614</th>\n",
              "      <td>5912305459</td>\n",
              "      <td>… at house party in Daybreak. Not as weird as ...</td>\n",
              "      <td>2009-11-20 23:52:52</td>\n",
              "    </tr>\n",
              "    <tr>\n",
              "      <th>614</th>\n",
              "      <td>5908467165</td>\n",
              "      <td>Taxiing  — at SLC Salt Lake City International...</td>\n",
              "      <td>2009-11-20 20:42:48</td>\n",
              "    </tr>\n",
              "    <tr>\n",
              "      <th>614</th>\n",
              "      <td>5904901963</td>\n",
              "      <td>Almost home! — at PDX Portland International  ...</td>\n",
              "      <td>2009-11-20 18:11:01</td>\n",
              "    </tr>\n",
              "    <tr>\n",
              "      <th>614</th>\n",
              "      <td>5900351610</td>\n",
              "      <td>Lunch!  — at Ten01 http://gowal.la/s/Awa</td>\n",
              "      <td>2009-11-20 15:04:42</td>\n",
              "    </tr>\n",
              "    <tr>\n",
              "      <th>614</th>\n",
              "      <td>5900312627</td>\n",
              "      <td>Mm … books — at @Powells http://gowal.la/s/6fe</td>\n",
              "      <td>2009-11-20 15:03:06</td>\n",
              "    </tr>\n",
              "    <tr>\n",
              "      <th>...</th>\n",
              "      <td>...</td>\n",
              "      <td>...</td>\n",
              "      <td>...</td>\n",
              "    </tr>\n",
              "    <tr>\n",
              "      <th>93390990</th>\n",
              "      <td>6168916131</td>\n",
              "      <td>meet me on ELIMINATE pro!!</td>\n",
              "      <td>2009-11-29 06:44:03</td>\n",
              "    </tr>\n",
              "    <tr>\n",
              "      <th>93402679</th>\n",
              "      <td>6170059145</td>\n",
              "      <td>my twitter</td>\n",
              "      <td>2009-11-29 07:52:22</td>\n",
              "    </tr>\n",
              "    <tr>\n",
              "      <th>93419256</th>\n",
              "      <td>6171947104</td>\n",
              "      <td>exploring this thing...</td>\n",
              "      <td>2009-11-29 09:25:53</td>\n",
              "    </tr>\n",
              "    <tr>\n",
              "      <th>93426370</th>\n",
              "      <td>6172856187</td>\n",
              "      <td>learning the rap ice ice baby LOL, not very gd...</td>\n",
              "      <td>2009-11-29 10:08:09</td>\n",
              "    </tr>\n",
              "    <tr>\n",
              "      <th>93442002</th>\n",
              "      <td>6174743151</td>\n",
              "      <td>Clipse, B.o.B и J.Cole</td>\n",
              "      <td>2009-11-29 11:33:06</td>\n",
              "    </tr>\n",
              "  </tbody>\n",
              "</table>\n",
              "<p>3246377 rows × 3 columns</p>\n",
              "</div>\n",
              "      <button class=\"colab-df-convert\" onclick=\"convertToInteractive('df-522669d3-0bc1-4001-83fa-81b61c990fa3')\"\n",
              "              title=\"Convert this dataframe to an interactive table.\"\n",
              "              style=\"display:none;\">\n",
              "        \n",
              "  <svg xmlns=\"http://www.w3.org/2000/svg\" height=\"24px\"viewBox=\"0 0 24 24\"\n",
              "       width=\"24px\">\n",
              "    <path d=\"M0 0h24v24H0V0z\" fill=\"none\"/>\n",
              "    <path d=\"M18.56 5.44l.94 2.06.94-2.06 2.06-.94-2.06-.94-.94-2.06-.94 2.06-2.06.94zm-11 1L8.5 8.5l.94-2.06 2.06-.94-2.06-.94L8.5 2.5l-.94 2.06-2.06.94zm10 10l.94 2.06.94-2.06 2.06-.94-2.06-.94-.94-2.06-.94 2.06-2.06.94z\"/><path d=\"M17.41 7.96l-1.37-1.37c-.4-.4-.92-.59-1.43-.59-.52 0-1.04.2-1.43.59L10.3 9.45l-7.72 7.72c-.78.78-.78 2.05 0 2.83L4 21.41c.39.39.9.59 1.41.59.51 0 1.02-.2 1.41-.59l7.78-7.78 2.81-2.81c.8-.78.8-2.07 0-2.86zM5.41 20L4 18.59l7.72-7.72 1.47 1.35L5.41 20z\"/>\n",
              "  </svg>\n",
              "      </button>\n",
              "      \n",
              "  <style>\n",
              "    .colab-df-container {\n",
              "      display:flex;\n",
              "      flex-wrap:wrap;\n",
              "      gap: 12px;\n",
              "    }\n",
              "\n",
              "    .colab-df-convert {\n",
              "      background-color: #E8F0FE;\n",
              "      border: none;\n",
              "      border-radius: 50%;\n",
              "      cursor: pointer;\n",
              "      display: none;\n",
              "      fill: #1967D2;\n",
              "      height: 32px;\n",
              "      padding: 0 0 0 0;\n",
              "      width: 32px;\n",
              "    }\n",
              "\n",
              "    .colab-df-convert:hover {\n",
              "      background-color: #E2EBFA;\n",
              "      box-shadow: 0px 1px 2px rgba(60, 64, 67, 0.3), 0px 1px 3px 1px rgba(60, 64, 67, 0.15);\n",
              "      fill: #174EA6;\n",
              "    }\n",
              "\n",
              "    [theme=dark] .colab-df-convert {\n",
              "      background-color: #3B4455;\n",
              "      fill: #D2E3FC;\n",
              "    }\n",
              "\n",
              "    [theme=dark] .colab-df-convert:hover {\n",
              "      background-color: #434B5C;\n",
              "      box-shadow: 0px 1px 3px 1px rgba(0, 0, 0, 0.15);\n",
              "      filter: drop-shadow(0px 1px 2px rgba(0, 0, 0, 0.3));\n",
              "      fill: #FFFFFF;\n",
              "    }\n",
              "  </style>\n",
              "\n",
              "      <script>\n",
              "        const buttonEl =\n",
              "          document.querySelector('#df-522669d3-0bc1-4001-83fa-81b61c990fa3 button.colab-df-convert');\n",
              "        buttonEl.style.display =\n",
              "          google.colab.kernel.accessAllowed ? 'block' : 'none';\n",
              "\n",
              "        async function convertToInteractive(key) {\n",
              "          const element = document.querySelector('#df-522669d3-0bc1-4001-83fa-81b61c990fa3');\n",
              "          const dataTable =\n",
              "            await google.colab.kernel.invokeFunction('convertToInteractive',\n",
              "                                                     [key], {});\n",
              "          if (!dataTable) return;\n",
              "\n",
              "          const docLinkHtml = 'Like what you see? Visit the ' +\n",
              "            '<a target=\"_blank\" href=https://colab.research.google.com/notebooks/data_table.ipynb>data table notebook</a>'\n",
              "            + ' to learn more about interactive tables.';\n",
              "          element.innerHTML = '';\n",
              "          dataTable['output_type'] = 'display_data';\n",
              "          await google.colab.output.renderOutput(dataTable, element);\n",
              "          const docLink = document.createElement('div');\n",
              "          docLink.innerHTML = docLinkHtml;\n",
              "          element.appendChild(docLink);\n",
              "        }\n",
              "      </script>\n",
              "    </div>\n",
              "  </div>\n",
              "  "
            ]
          },
          "metadata": {},
          "execution_count": 13
        }
      ],
      "source": [
        "dfLegitimate_users_tweets"
      ]
    },
    {
      "cell_type": "code",
      "execution_count": null,
      "metadata": {
        "id": "qjOY06EwX8eD"
      },
      "outputs": [],
      "source": [
        "def get_user_id(data_frame) :\n",
        "  df = pd.DataFrame({\"UserID\":data_frame[\"UserID\"]})\n",
        "  return df"
      ]
    },
    {
      "cell_type": "markdown",
      "metadata": {
        "id": "BfS1TgRq1Igh"
      },
      "source": [
        "## \tFeaturse Extraction\n"
      ]
    },
    {
      "cell_type": "markdown",
      "metadata": {
        "id": "DjVXz1bp8igF"
      },
      "source": [
        "### 1 - The\tlongevity\tof\tthe\taccount"
      ]
    },
    {
      "cell_type": "code",
      "execution_count": null,
      "metadata": {
        "id": "HjEyR2sv8nJa"
      },
      "outputs": [],
      "source": [
        "\n",
        "def longevity(data_frame) :\n",
        "  df=pd.DataFrame({\"LongevityOfAccount\": (data_frame[\"CollectedAt\"]-data_frame[\"CreatedAt\"])/np.timedelta64(1, 'D')})\n",
        "  return df"
      ]
    },
    {
      "cell_type": "markdown",
      "metadata": {
        "id": "i9kbeN7ZCk3O"
      },
      "source": [
        "### 2 - Average Tweet Length"
      ]
    },
    {
      "cell_type": "code",
      "execution_count": null,
      "metadata": {
        "id": "lWixr1pnCskp"
      },
      "outputs": [],
      "source": [
        "def avgTweetLength(data_frame) :\n",
        "  dftemp=pd.DataFrame({\"AvgLengthTweets\": data_frame[\"Tweet\"].astype(str).apply(len)})\n",
        "  df = dftemp.groupby([\"UserID\"]).mean()\n",
        "  return df"
      ]
    },
    {
      "cell_type": "markdown",
      "metadata": {
        "id": "EWWkXa1mFyn6"
      },
      "source": [
        "### 3 -  |ReTweets |  /  |Tweets|"
      ]
    },
    {
      "cell_type": "code",
      "execution_count": null,
      "metadata": {
        "id": "juRXEOslFyn9"
      },
      "outputs": [],
      "source": [
        "def existURL(tweet) :\n",
        "  if(len(re.findall('(RT|retweet|from|via)(?:\\b\\W*@(\\w+))+', str(tweet)))==0):\n",
        "    return 0;\n",
        "  else:\n",
        "    return 1;\n",
        "  \n",
        "def reTweetsFraction(data_frame) :\n",
        "  dftemp=pd.DataFrame({\"ReTweetFraction\": data_frame[\"Tweet\"].apply(existURL)})\n",
        "  df = dftemp.groupby([\"UserID\"]).mean()\n",
        "  return df\n"
      ]
    },
    {
      "cell_type": "markdown",
      "metadata": {
        "id": "gF76X4KO3-h7"
      },
      "source": [
        "### 4 - |Tweets with URL|  /  |Tweets|"
      ]
    },
    {
      "cell_type": "code",
      "execution_count": null,
      "metadata": {
        "id": "FxLzAKw54Ebf"
      },
      "outputs": [],
      "source": [
        "def existURL(tweet) :\n",
        "  if(len(re.findall('https?://(?:[-\\w.]|(?:%[\\da-fA-F]{2}))+', str(tweet)))==0):\n",
        "    return 0;\n",
        "  else:\n",
        "    return 1;\n",
        "  \n",
        "def URLsPerTweets(data_frame) :\n",
        "  dftemp=pd.DataFrame({\"AvgTweetsWithURL\": data_frame[\"Tweet\"].apply(existURL)})\n",
        "  df = dftemp.groupby([\"UserID\"]).mean()\n",
        "  return df\n"
      ]
    },
    {
      "cell_type": "markdown",
      "metadata": {
        "id": "KQ8OT2dKBEBM"
      },
      "source": [
        "### 5 - Average time between 2 consecutives tweets"
      ]
    },
    {
      "cell_type": "code",
      "execution_count": null,
      "metadata": {
        "id": "wphcuK8nBRqy"
      },
      "outputs": [],
      "source": [
        "def avgTimeBetween2Tweets(data_frame):\n",
        "  temp=pd.DataFrame({\"CreatedAt\":data_frame[\"CreatedAt\"]}).sort_values(by=['UserID','CreatedAt'])\n",
        "  dftemp=pd.DataFrame({\"PreviousTweet\":temp.groupby(['UserID']).apply(lambda x:x)['CreatedAt'],\n",
        "                       \"NextTweet\":temp.groupby(['UserID']).shift(-1)['CreatedAt']})\n",
        "  df=pd.DataFrame({\"AvgMinutesBetween2Tweets\": (dftemp[\"NextTweet\"]-dftemp[\"PreviousTweet\"]) / np.timedelta64(1, 'm')})\n",
        "  df=df.groupby([\"UserID\"]).mean()\n",
        "  return df"
      ]
    },
    {
      "cell_type": "markdown",
      "metadata": {
        "id": "aQK3aUtFJkH6"
      },
      "source": [
        "### 6 -  Followings / Followers"
      ]
    },
    {
      "cell_type": "code",
      "execution_count": null,
      "metadata": {
        "id": "2ow-XrfbJkH7"
      },
      "outputs": [],
      "source": [
        "def fractionFF(data_frame) :\n",
        "  df = pd.DataFrame({\"RatioFollowings/Followers\": (data_frame[\"NumberOfFollowings\"] / data_frame[\"NumberOfFollowers\"]) })\n",
        "  return df "
      ]
    },
    {
      "cell_type": "markdown",
      "metadata": {
        "id": "yCQZa6He9r30"
      },
      "source": [
        "### 7 - The standard\tdeviation\tof unique\tnumerical\tIDs\tof following"
      ]
    },
    {
      "cell_type": "code",
      "execution_count": null,
      "metadata": {
        "id": "P183tuDI9z-9"
      },
      "outputs": [],
      "source": [
        "def std(x):\n",
        "  return x.std()\n",
        "\n",
        "def followingsSTD(data_frame) :\n",
        "  df = pd.DataFrame({\"STDOfUniqueFollowers\":data_frame[\"SeriesOfNumberOfFollowings\"].apply(std)})\n",
        "  return df"
      ]
    },
    {
      "cell_type": "code",
      "execution_count": null,
      "metadata": {
        "colab": {
          "base_uri": "https://localhost:8080/",
          "height": 455
        },
        "id": "LtWmpTQnjS_P",
        "outputId": "714fa6f5-d7fa-4213-efe3-3a3d0b2a7928"
      },
      "outputs": [
        {
          "output_type": "execute_result",
          "data": {
            "text/plain": [
              "           STDOfUniqueFollowers\n",
              "UserID                         \n",
              "6301                 189.834956\n",
              "10836                 11.384581\n",
              "10997                859.067567\n",
              "633293               284.877349\n",
              "717883               114.229063\n",
              "...                         ...\n",
              "173715049             64.468985\n",
              "173718053             47.518417\n",
              "173721018             53.909647\n",
              "173723395             58.271634\n",
              "173766965              1.000000\n",
              "\n",
              "[22223 rows x 1 columns]"
            ],
            "text/html": [
              "\n",
              "  <div id=\"df-1b58ab77-e542-483f-9e77-a7038131f38f\">\n",
              "    <div class=\"colab-df-container\">\n",
              "      <div>\n",
              "<style scoped>\n",
              "    .dataframe tbody tr th:only-of-type {\n",
              "        vertical-align: middle;\n",
              "    }\n",
              "\n",
              "    .dataframe tbody tr th {\n",
              "        vertical-align: top;\n",
              "    }\n",
              "\n",
              "    .dataframe thead th {\n",
              "        text-align: right;\n",
              "    }\n",
              "</style>\n",
              "<table border=\"1\" class=\"dataframe\">\n",
              "  <thead>\n",
              "    <tr style=\"text-align: right;\">\n",
              "      <th></th>\n",
              "      <th>STDOfUniqueFollowers</th>\n",
              "    </tr>\n",
              "    <tr>\n",
              "      <th>UserID</th>\n",
              "      <th></th>\n",
              "    </tr>\n",
              "  </thead>\n",
              "  <tbody>\n",
              "    <tr>\n",
              "      <th>6301</th>\n",
              "      <td>189.834956</td>\n",
              "    </tr>\n",
              "    <tr>\n",
              "      <th>10836</th>\n",
              "      <td>11.384581</td>\n",
              "    </tr>\n",
              "    <tr>\n",
              "      <th>10997</th>\n",
              "      <td>859.067567</td>\n",
              "    </tr>\n",
              "    <tr>\n",
              "      <th>633293</th>\n",
              "      <td>284.877349</td>\n",
              "    </tr>\n",
              "    <tr>\n",
              "      <th>717883</th>\n",
              "      <td>114.229063</td>\n",
              "    </tr>\n",
              "    <tr>\n",
              "      <th>...</th>\n",
              "      <td>...</td>\n",
              "    </tr>\n",
              "    <tr>\n",
              "      <th>173715049</th>\n",
              "      <td>64.468985</td>\n",
              "    </tr>\n",
              "    <tr>\n",
              "      <th>173718053</th>\n",
              "      <td>47.518417</td>\n",
              "    </tr>\n",
              "    <tr>\n",
              "      <th>173721018</th>\n",
              "      <td>53.909647</td>\n",
              "    </tr>\n",
              "    <tr>\n",
              "      <th>173723395</th>\n",
              "      <td>58.271634</td>\n",
              "    </tr>\n",
              "    <tr>\n",
              "      <th>173766965</th>\n",
              "      <td>1.000000</td>\n",
              "    </tr>\n",
              "  </tbody>\n",
              "</table>\n",
              "<p>22223 rows × 1 columns</p>\n",
              "</div>\n",
              "      <button class=\"colab-df-convert\" onclick=\"convertToInteractive('df-1b58ab77-e542-483f-9e77-a7038131f38f')\"\n",
              "              title=\"Convert this dataframe to an interactive table.\"\n",
              "              style=\"display:none;\">\n",
              "        \n",
              "  <svg xmlns=\"http://www.w3.org/2000/svg\" height=\"24px\"viewBox=\"0 0 24 24\"\n",
              "       width=\"24px\">\n",
              "    <path d=\"M0 0h24v24H0V0z\" fill=\"none\"/>\n",
              "    <path d=\"M18.56 5.44l.94 2.06.94-2.06 2.06-.94-2.06-.94-.94-2.06-.94 2.06-2.06.94zm-11 1L8.5 8.5l.94-2.06 2.06-.94-2.06-.94L8.5 2.5l-.94 2.06-2.06.94zm10 10l.94 2.06.94-2.06 2.06-.94-2.06-.94-.94-2.06-.94 2.06-2.06.94z\"/><path d=\"M17.41 7.96l-1.37-1.37c-.4-.4-.92-.59-1.43-.59-.52 0-1.04.2-1.43.59L10.3 9.45l-7.72 7.72c-.78.78-.78 2.05 0 2.83L4 21.41c.39.39.9.59 1.41.59.51 0 1.02-.2 1.41-.59l7.78-7.78 2.81-2.81c.8-.78.8-2.07 0-2.86zM5.41 20L4 18.59l7.72-7.72 1.47 1.35L5.41 20z\"/>\n",
              "  </svg>\n",
              "      </button>\n",
              "      \n",
              "  <style>\n",
              "    .colab-df-container {\n",
              "      display:flex;\n",
              "      flex-wrap:wrap;\n",
              "      gap: 12px;\n",
              "    }\n",
              "\n",
              "    .colab-df-convert {\n",
              "      background-color: #E8F0FE;\n",
              "      border: none;\n",
              "      border-radius: 50%;\n",
              "      cursor: pointer;\n",
              "      display: none;\n",
              "      fill: #1967D2;\n",
              "      height: 32px;\n",
              "      padding: 0 0 0 0;\n",
              "      width: 32px;\n",
              "    }\n",
              "\n",
              "    .colab-df-convert:hover {\n",
              "      background-color: #E2EBFA;\n",
              "      box-shadow: 0px 1px 2px rgba(60, 64, 67, 0.3), 0px 1px 3px 1px rgba(60, 64, 67, 0.15);\n",
              "      fill: #174EA6;\n",
              "    }\n",
              "\n",
              "    [theme=dark] .colab-df-convert {\n",
              "      background-color: #3B4455;\n",
              "      fill: #D2E3FC;\n",
              "    }\n",
              "\n",
              "    [theme=dark] .colab-df-convert:hover {\n",
              "      background-color: #434B5C;\n",
              "      box-shadow: 0px 1px 3px 1px rgba(0, 0, 0, 0.15);\n",
              "      filter: drop-shadow(0px 1px 2px rgba(0, 0, 0, 0.3));\n",
              "      fill: #FFFFFF;\n",
              "    }\n",
              "  </style>\n",
              "\n",
              "      <script>\n",
              "        const buttonEl =\n",
              "          document.querySelector('#df-1b58ab77-e542-483f-9e77-a7038131f38f button.colab-df-convert');\n",
              "        buttonEl.style.display =\n",
              "          google.colab.kernel.accessAllowed ? 'block' : 'none';\n",
              "\n",
              "        async function convertToInteractive(key) {\n",
              "          const element = document.querySelector('#df-1b58ab77-e542-483f-9e77-a7038131f38f');\n",
              "          const dataTable =\n",
              "            await google.colab.kernel.invokeFunction('convertToInteractive',\n",
              "                                                     [key], {});\n",
              "          if (!dataTable) return;\n",
              "\n",
              "          const docLinkHtml = 'Like what you see? Visit the ' +\n",
              "            '<a target=\"_blank\" href=https://colab.research.google.com/notebooks/data_table.ipynb>data table notebook</a>'\n",
              "            + ' to learn more about interactive tables.';\n",
              "          element.innerHTML = '';\n",
              "          dataTable['output_type'] = 'display_data';\n",
              "          await google.colab.output.renderOutput(dataTable, element);\n",
              "          const docLink = document.createElement('div');\n",
              "          docLink.innerHTML = docLinkHtml;\n",
              "          element.appendChild(docLink);\n",
              "        }\n",
              "      </script>\n",
              "    </div>\n",
              "  </div>\n",
              "  "
            ]
          },
          "metadata": {},
          "execution_count": 22
        }
      ],
      "source": [
        "followingsSTD(dfContent_polluters_followings)"
      ]
    },
    {
      "cell_type": "markdown",
      "metadata": {
        "id": "idQPTBe6lB2Q"
      },
      "source": [
        "### 8 - Number of tweets / day"
      ]
    },
    {
      "cell_type": "code",
      "execution_count": null,
      "metadata": {
        "id": "mJII29cslFrL"
      },
      "outputs": [],
      "source": [
        "def numberOfTweetsPerDay(data_frame) :\n",
        "  dftemp = pd.DataFrame({\"CreatedAt\":data_frame[\"CreatedAt\"].dt.date})\n",
        "  query=dftemp.groupby([\"UserID\",\"CreatedAt\"]).size()\n",
        "  query2=query.groupby([\"UserID\"]).mean().reset_index(name='0')\n",
        "  df = pd.DataFrame({\"UserID\":query2[\"UserID\"],\"NumberOfTweetsPerDay\":query2[\"0\"]})\n",
        "  df=df.set_index(\"UserID\")\n",
        "  return df\n"
      ]
    },
    {
      "cell_type": "markdown",
      "metadata": {
        "id": "b5f-FJpe38sL"
      },
      "source": [
        "### 9 - Average mentions / Tweet"
      ]
    },
    {
      "cell_type": "code",
      "execution_count": null,
      "metadata": {
        "id": "OR9sWj6Q4ADJ"
      },
      "outputs": [],
      "source": [
        "def countM(tweet):\n",
        "  return len(re.findall('\\s([@#][\\w_-]+)', str(tweet)))\n",
        "\n",
        "def mentionsPerTweets(data_frame):\n",
        "  dftemp=pd.DataFrame({\"AvgMentionsPerTweet\": data_frame[\"Tweet\"].apply(countM)})\n",
        "  df = dftemp.groupby([\"UserID\"]).mean()\n",
        "  return df"
      ]
    },
    {
      "cell_type": "markdown",
      "metadata": {
        "id": "v_mKWDB19PrD"
      },
      "source": [
        "### 4 - Numbers of followings"
      ]
    },
    {
      "cell_type": "code",
      "execution_count": null,
      "metadata": {
        "id": "USw4CtGy9Ug9"
      },
      "outputs": [],
      "source": [
        "def nbrFollowings(data_frame) :\n",
        "  df = pd.DataFrame({\"NumberOfFollowings\":data_frame[\"NumberOfFollowings\"]})\n",
        "  return df"
      ]
    },
    {
      "cell_type": "markdown",
      "metadata": {
        "id": "dN28xtJe9hH1"
      },
      "source": [
        "### 5 - Numbers of followers"
      ]
    },
    {
      "cell_type": "code",
      "execution_count": null,
      "metadata": {
        "id": "Tq1BfE0S9jru"
      },
      "outputs": [],
      "source": [
        "def nbrFollowers(data_frame) :\n",
        "  df = pd.DataFrame({\"NumberOfFollowers\":data_frame[\"NumberOfFollowers\"]})\n",
        "  return df"
      ]
    },
    {
      "cell_type": "code",
      "execution_count": null,
      "metadata": {
        "id": "0pddFk6Ix6D9"
      },
      "outputs": [],
      "source": [
        "\n",
        "first_features_polluters=pd.concat([longevity(dfContent_polluters),\n",
        "                                    nbrFollowings(dfContent_polluters), \n",
        "                                    followingsSTD(dfContent_polluters_followings),\n",
        "                                    mentionsPerTweets(dfContent_polluters_tweets),\n",
        "                                    reTweetsFraction(dfContent_polluters_tweets),\n",
        "                                    avgTweetLength(dfContent_polluters_tweets),\n",
        "                                    URLsPerTweets(dfContent_polluters_tweets),\n",
        "                                    numberOfTweetsPerDay(dfContent_polluters_tweets),\n",
        "                                    avgTimeBetween2Tweets(dfContent_polluters_tweets)],axis=1)\n",
        "\n",
        "first_features_legitimate=pd.concat([longevity(dfLegitimate_users),\n",
        "                                    nbrFollowings(dfLegitimate_users),\n",
        "                                    followingsSTD(dfLegitimate_users_followings),\n",
        "                                    mentionsPerTweets(dfLegitimate_users_tweets),\n",
        "                                    reTweetsFraction(dfLegitimate_users_tweets),\n",
        "                                    avgTweetLength(dfLegitimate_users_tweets),\n",
        "                                    URLsPerTweets(dfLegitimate_users_tweets),\n",
        "                                    numberOfTweetsPerDay(dfLegitimate_users_tweets),\n",
        "                                    avgTimeBetween2Tweets(dfLegitimate_users_tweets)],axis=1)"
      ]
    },
    {
      "cell_type": "markdown",
      "metadata": {
        "id": "zZIByvOcKcJ_"
      },
      "source": [
        "## Label Honey Pot dataSet"
      ]
    },
    {
      "cell_type": "code",
      "execution_count": null,
      "metadata": {
        "id": "yL5luRYHKVC7"
      },
      "outputs": [],
      "source": [
        "data_set_polluters = first_features_polluters\n",
        "data_set_legitimate = first_features_legitimate"
      ]
    },
    {
      "cell_type": "code",
      "execution_count": null,
      "metadata": {
        "id": "652uw2NCKZUw"
      },
      "outputs": [],
      "source": [
        "data_set_polluters.insert(0,\"Class\",1)\n",
        "data_set_legitimate.insert(0,\"Class\",0)"
      ]
    },
    {
      "cell_type": "markdown",
      "metadata": {
        "id": "Pa038FCbRoMg"
      },
      "source": [
        "## Clean Data"
      ]
    },
    {
      "cell_type": "code",
      "execution_count": null,
      "metadata": {
        "id": "jzmrzdH3d2Gg"
      },
      "outputs": [],
      "source": [
        "def attributesOfUniqueValues(data_set_users) :\n",
        "  list=[]\n",
        "  for col in data_set_users.columns:\n",
        "    if (data_set_users[col]==data_set_users[col].iloc[0]).all == True:\n",
        "      list.append(col)\n",
        "  return data_set_users.drop(list)"
      ]
    },
    {
      "cell_type": "code",
      "execution_count": null,
      "metadata": {
        "id": "n6M7jmkyd_Il"
      },
      "outputs": [],
      "source": [
        "def duplicateRows(data_set_users):\n",
        "  return data_set_users.drop_duplicates()"
      ]
    },
    {
      "cell_type": "code",
      "execution_count": null,
      "metadata": {
        "id": "Jt7MBNHJeBkx"
      },
      "outputs": [],
      "source": [
        "def missingValues(data_set_users):\n",
        "  valuesReplaced = data_set_users.replace([np.inf,-np.inf],np.nan)\n",
        "  valuesReplaced.fillna(0,inplace=True)\n",
        "  return valuesReplaced"
      ]
    },
    {
      "cell_type": "code",
      "execution_count": null,
      "metadata": {
        "id": "338FQjojeHJV"
      },
      "outputs": [],
      "source": [
        "def shiftCol(data_set_users):\n",
        "  df=data_set_users.drop([\"Class\"],axis=1)\n",
        "  # df=df.apply(zscore)\n",
        "  df[\"Class\"]=data_set_users[\"Class\"]\n",
        "  return df"
      ]
    },
    {
      "cell_type": "code",
      "execution_count": null,
      "metadata": {
        "id": "HOLtAYmVeJWN"
      },
      "outputs": [],
      "source": [
        "data_set_polluters=attributesOfUniqueValues(data_set_polluters)\n",
        "data_set_polluters=duplicateRows(data_set_polluters)\n",
        "data_set_polluters=missingValues(data_set_polluters)\n",
        "data_set_polluters=shiftCol(data_set_polluters)"
      ]
    },
    {
      "cell_type": "code",
      "execution_count": null,
      "metadata": {
        "id": "KXPRTaUKNRBv"
      },
      "outputs": [],
      "source": [
        "data_set_legitimate=attributesOfUniqueValues(data_set_legitimate)\n",
        "data_set_legitimate=duplicateRows(data_set_legitimate)\n",
        "data_set_legitimate=missingValues(data_set_legitimate)\n",
        "data_set_legitimate=shiftCol(data_set_legitimate)"
      ]
    },
    {
      "cell_type": "code",
      "execution_count": null,
      "metadata": {
        "id": "BP_YIDvr1tig"
      },
      "outputs": [],
      "source": [
        "data_set=pd.concat([data_set_polluters,data_set_legitimate])"
      ]
    },
    {
      "cell_type": "code",
      "execution_count": null,
      "metadata": {
        "id": "E7xWW1lZiTWP"
      },
      "outputs": [],
      "source": [
        "X=data_set.drop(['Class'],axis=1)\n",
        "X=X.values\n",
        "Y=data_set[\"Class\"].values\n",
        "train, test, target, trueResult = train_test_split(X, Y, test_size=0.3, random_state=1)"
      ]
    },
    {
      "cell_type": "markdown",
      "metadata": {
        "id": "J13NsU82yZv-"
      },
      "source": [
        "**Application des Algorithmes**"
      ]
    },
    {
      "cell_type": "markdown",
      "metadata": {
        "id": "Kfj6s92KJ-X4"
      },
      "source": [
        "\n",
        "\n",
        "> Random Forest\n",
        "\n"
      ]
    },
    {
      "cell_type": "code",
      "execution_count": null,
      "metadata": {
        "id": "WV4-Ja66HBqZ"
      },
      "outputs": [],
      "source": [
        "from sklearn import model_selection\n",
        "from sklearn.metrics import classification_report,confusion_matrix,make_scorer, accuracy_score, precision_score, recall_score, f1_score\n",
        "from sklearn.neural_network import MLPClassifier\n",
        "import pickle"
      ]
    },
    {
      "cell_type": "code",
      "execution_count": null,
      "metadata": {
        "id": "CsQktPI5-XEs"
      },
      "outputs": [],
      "source": [
        "\n",
        "# Random Forest\n",
        "randomForestModel = RandomForestClassifier(n_estimators=100)\n",
        "randomForestModel.fit(train, target)\n",
        "predictedRF = randomForestModel.predict(test)\n",
        "probasRF = randomForestModel.predict_proba(test)"
      ]
    },
    {
      "cell_type": "code",
      "source": [
        "\n",
        "from sklearn.metrics import confusion_matrix as cm\n",
        "target_names = ['Real Account','Fake Account']\n",
        "confusion_matrix = cm(trueResult, predictedRF)"
      ],
      "metadata": {
        "id": "f8BCuQyzCVn4"
      },
      "execution_count": null,
      "outputs": []
    },
    {
      "cell_type": "code",
      "source": [
        "def plot_confusion_matrix(cm, classes,\n",
        "                          normalize=False,\n",
        "                          title='Confusion matrix',\n",
        "                          cmap=plt.cm.Blues):\n",
        "    \"\"\"\n",
        "    This function prints and plots the confusion matrix.\n",
        "    Normalization can be applied by setting `normalize=True`.\n",
        "    \"\"\"\n",
        "    if normalize:\n",
        "        cm = cm.astype('float') / cm.sum(axis=1)[:, np.newaxis]\n",
        "        print(\"Normalized confusion matrix\")\n",
        "    else:\n",
        "        print('Confusion matrix, without normalization')\n",
        "\n",
        "    print(cm)\n",
        "\n",
        "    plt.imshow(cm, interpolation='nearest', cmap=cmap)\n",
        "    plt.title(title)\n",
        "    plt.colorbar()\n",
        "    tick_marks = np.arange(len(classes))\n",
        "    plt.xticks(tick_marks, classes, rotation=45)\n",
        "    plt.yticks(tick_marks, classes)\n",
        "\n",
        "    fmt = '.2f' if normalize else 'd'\n",
        "    thresh = cm.max() / 2.\n",
        "    for i, j in itertools.product(range(cm.shape[0]), range(cm.shape[1])):\n",
        "        plt.text(j, i, format(cm[i, j], fmt),\n",
        "                 horizontalalignment=\"center\",\n",
        "                 color=\"white\" if cm[i, j] > thresh else \"black\")\n",
        "\n",
        "    plt.ylabel('True label')\n",
        "    plt.xlabel('Predicted label')\n",
        "    plt.tight_layout()"
      ],
      "metadata": {
        "id": "cpXxModqD3j3"
      },
      "execution_count": null,
      "outputs": []
    },
    {
      "cell_type": "code",
      "source": [
        "\n",
        "\n",
        "#Plot the confusion matrix\n",
        "import itertools\n",
        "plt.figure(figsize=(8,6))\n",
        "plot_confusion_matrix(confusion_matrix, classes=target_names, normalize=True,\n",
        "                      title='Normalized confusion matrix')\n",
        "\n"
      ],
      "metadata": {
        "colab": {
          "base_uri": "https://localhost:8080/",
          "height": 493
        },
        "id": "PfEjIJ52CFN4",
        "outputId": "3c358910-dd4a-46d0-a22d-451c11da954c"
      },
      "execution_count": null,
      "outputs": [
        {
          "output_type": "stream",
          "name": "stdout",
          "text": [
            "Normalized confusion matrix\n",
            "[[0.93039079 0.06960921]\n",
            " [0.04971718 0.95028282]]\n"
          ]
        },
        {
          "output_type": "display_data",
          "data": {
            "text/plain": [
              "<Figure size 576x432 with 2 Axes>"
            ],
            "image/png": "[encoded data removed]"
          },
          "metadata": {
            "needs_background": "light"
          }
        }
      ]
    },
    {
      "cell_type": "code",
      "source": [
        "from sklearn.neighbors import KNeighborsClassifier"
      ],
      "metadata": {
        "id": "-0StI9PWNltG"
      },
      "execution_count": null,
      "outputs": []
    },
    {
      "cell_type": "code",
      "source": [
        "# # knn\n",
        "decisionTree = KNeighborsClassifier(n_neighbors=5)\n",
        "decisionTree.fit(train, target)\n",
        "predictedAD = decisionTree.predict(test)\n",
        "probasAD = decisionTree.predict_proba(test)"
      ],
      "metadata": {
        "id": "yUto2W5rMfPv"
      },
      "execution_count": null,
      "outputs": []
    },
    {
      "cell_type": "code",
      "source": [
        "precisionAD = precision_score(trueResult, predictedAD)\n",
        "recallAD = recall_score(trueResult, predictedAD)\n",
        "fmeasureAD = f1_score(trueResult, predictedAD)\n",
        "fprAD, tprAD, thresholdsAD = roc_curve(trueResult, predictedAD)\n",
        "rocAD = metrics.auc(fprAD, tprAD)\n",
        "print(\"Precision: %0.4f\" % precisionAD)\n",
        "print(\"Recall: %0.4f\" % recallAD)\n",
        "print(\"F-mesure: %0.4f\" % fmeasureAD)\n",
        "print(\"Surface sous la courbe ROC: %0.4f\" % rocAD)\n",
        "skplt.metrics.plot_confusion_matrix(trueResult, predictedAD, normalize=True)\n",
        "skplt.metrics.plot_roc(trueResult, probasAD)\n",
        "skplt.metrics.plot_precision_recall(trueResult, probasAD)"
      ],
      "metadata": {
        "id": "IsQ-ridaN6Tl",
        "outputId": "cf5fa23c-6d76-49a1-af28-2c7bb93e05db",
        "colab": {
          "base_uri": "https://localhost:8080/",
          "height": 938
        }
      },
      "execution_count": null,
      "outputs": [
        {
          "output_type": "stream",
          "name": "stdout",
          "text": [
            "Precision: 0.9070\n",
            "Recall: 0.9025\n",
            "F-mesure: 0.9047\n",
            "Surface sous la courbe ROC: 0.8970\n"
          ]
        },
        {
          "output_type": "execute_result",
          "data": {
            "text/plain": [
              "<matplotlib.axes._subplots.AxesSubplot at 0x7fd66c3ab950>"
            ]
          },
          "metadata": {},
          "execution_count": 47
        },
        {
          "output_type": "display_data",
          "data": {
            "text/plain": [
              "<Figure size 432x288 with 2 Axes>"
            ],
            "image/png": "[encoded data removed]"
          },
          "metadata": {
            "needs_background": "light"
          }
        },
        {
          "output_type": "display_data",
          "data": {
            "text/plain": [
              "<Figure size 432x288 with 1 Axes>"
            ],
            "image/png": "[encoded data removed]"
          },
          "metadata": {
            "needs_background": "light"
          }
        },
        {
          "output_type": "display_data",
          "data": {
            "text/plain": [
              "<Figure size 432x288 with 1 Axes>"
            ],
            "image/png": "[encoded data removed]"
          },
          "metadata": {
            "needs_background": "light"
          }
        }
      ]
    },
    {
      "cell_type": "code",
      "execution_count": null,
      "metadata": {
        "id": "9J6ZqYDZC-T7"
      },
      "outputs": [],
      "source": [
        "precisionRF = precision_score(trueResult, predictedRF)\n",
        "recallRF = recall_score(trueResult, predictedRF)\n",
        "fmeasureRF = f1_score(trueResult, predictedRF)\n",
        "fprRF, tprRF, thresholdsRF = roc_curve(trueResult, predictedRF)\n",
        "rocRF = metrics.auc(fprRF, tprRF)\n",
        "print(\"Precision: %0.4f\" % precisionRF)\n",
        "print(\"Recall: %0.4f\" % recallRF)\n",
        "print(\"F-mesure: %0.4f\" % fmeasureRF)\n",
        "print(\"Surface sous la courbe ROC: %0.4f\" % rocRF)\n",
        "skplt.metrics.plot_confusion_matrix(trueResult, predictedRF, normalize=True)\n",
        "skplt.metrics.plot_roc(trueResult, probasRF)\n",
        "skplt.metrics.plot_precision_recall(trueResult, probasRF)"
      ]
    },
    {
      "cell_type": "code",
      "source": [
        "stop = timeit.default_timer()\n",
        "print('Time: ', stop - start) "
      ],
      "metadata": {
        "id": "Fhjhg20ZuZQQ"
      },
      "execution_count": null,
      "outputs": []
    },
    {
      "cell_type": "code",
      "execution_count": null,
      "metadata": {
        "id": "IJgBRQVB_ysb"
      },
      "outputs": [],
      "source": [
        "# save the model to disk\n",
        "filename = 'finalized_model.sav'\n",
        "pickle.dump(randomForestModel, open(filename, 'wb'))"
      ]
    },
    {
      "cell_type": "code",
      "execution_count": null,
      "metadata": {
        "id": "qTJUFWS5CIZa"
      },
      "outputs": [],
      "source": [
        "# load the model from disk\n",
        "loaded_model = pickle.load(open(filename, 'rb'))\n",
        "result = loaded_model.predict(test)\n",
        "print(result)"
      ]
    },
    {
      "cell_type": "code",
      "source": [
        "print(test[1])"
      ],
      "metadata": {
        "id": "BN3VNQPFEEod"
      },
      "execution_count": null,
      "outputs": []
    },
    {
      "cell_type": "code",
      "source": [
        "newdata =[ 1.105 , 33.   , 3.20223958 , 0.     ,     0.     ,    77.47368421 , 0.   ,       9.5     ,   86.45740741]\n",
        "resultnewdata = loaded_model.predict([newdata])\n",
        "print(resultnewdata[0])"
      ],
      "metadata": {
        "id": "E1B3bwDjFWlp"
      },
      "execution_count": null,
      "outputs": []
    },
    {
      "cell_type": "code",
      "execution_count": null,
      "metadata": {
        "id": "j3-oTHjhI_YI"
      },
      "outputs": [],
      "source": [
        "score = loaded_model.score(test, trueResult)\n",
        "print(\" score \" , score)"
      ]
    },
    {
      "cell_type": "code",
      "execution_count": null,
      "metadata": {
        "id": "rBLNhou4I7Yo"
      },
      "outputs": [],
      "source": [
        "# # some time later...\n",
        " \n",
        "# # load the model from disk\n",
        "# loaded_model = pickle.load(open(filename, 'rb'))\n",
        "# result = loaded_model.score(X_test, Y_test)\n",
        "# print(\" result \" , result)"
      ]
    }
  ],
  "metadata": {
    "accelerator": "GPU",
    "colab": {
      "provenance": []
    },
    "kernelspec": {
      "display_name": "Python 3",
      "name": "python3"
    },
    "language_info": {
      "name": "python"
    }
  },
  "nbformat": 4,
  "nbformat_minor": 0
}